{
  "nbformat": 4,
  "nbformat_minor": 0,
  "metadata": {
    "colab": {
      "provenance": [],
      "authorship_tag": "ABX9TyNU7zlWq/NSieO9pMGw6/d9",
      "include_colab_link": true
    },
    "kernelspec": {
      "name": "python3",
      "display_name": "Python 3"
    },
    "language_info": {
      "name": "python"
    }
  },
  "cells": [
    {
      "cell_type": "markdown",
      "metadata": {
        "id": "view-in-github",
        "colab_type": "text"
      },
      "source": [
        "<a href=\"https://colab.research.google.com/github/fatemerezaee/Regression_prediction_with_Python_Scikit_Learn/blob/main/Zn.ipynb\" target=\"_parent\"><img src=\"https://colab.research.google.com/assets/colab-badge.svg\" alt=\"Open In Colab\"/></a>"
      ]
    },
    {
      "cell_type": "code",
      "execution_count": null,
      "metadata": {
        "id": "VFZIVp2MmweQ"
      },
      "outputs": [],
      "source": [
        "import pandas as pd\n",
        "import numpy as np\n",
        "import seaborn as sns\n",
        "from sklearn import impute"
      ]
    },
    {
      "cell_type": "code",
      "source": [
        "#Importing data from google drive\n",
        "\n",
        "from google.colab import drive\n",
        "\n",
        "drive.mount('/content/drive')\n",
        "path = \"/content/drive/My Drive/mahabad_Zn.csv\"\n",
        "df_bonus = pd.read_csv(path)\n",
        " \n",
        "data= pd.read_csv(\"/content/drive/My Drive/mahabad_Zn.csv\")\n",
        "data.rename(index= data.stations, inplace=True)\n",
        "data.drop('stations', axis=1, inplace=True)\n",
        "data.head()"
      ],
      "metadata": {
        "colab": {
          "base_uri": "https://localhost:8080/",
          "height": 224
        },
        "id": "tb9Rt5WJnasC",
        "outputId": "21ecb1b9-3211-4bd2-dc79-7a0817b6c5df"
      },
      "execution_count": null,
      "outputs": [
        {
          "output_type": "stream",
          "name": "stdout",
          "text": [
            "Mounted at /content/drive\n"
          ]
        },
        {
          "output_type": "execute_result",
          "data": {
            "text/plain": [
              "     total_con     F1    F2     F3     F4     F5    pH    EC    OM  \\\n",
              "M1         105  10.42  7.53  13.55  12.72  55.78  6.80   970  8.40   \n",
              "M4          88   9.38  5.40  15.83  12.35  57.04  7.10  1060  8.00   \n",
              "M6          89   1.12  3.34   5.11   3.27  87.16  7.06   840  7.98   \n",
              "M8         110   0.98  2.53   4.31   4.74  87.44  6.90  1190  8.11   \n",
              "M12        149  13.38  3.12  13.78   4.74  59.77  7.11  1185  7.50   \n",
              "\n",
              "     target (BF)  \n",
              "M1         17.95  \n",
              "M4         14.78  \n",
              "M6          4.46  \n",
              "M8          3.51  \n",
              "M12        16.50  "
            ],
            "text/html": [
              "\n",
              "  <div id=\"df-7acd8772-1816-4ed3-a447-f6d88e3a159b\">\n",
              "    <div class=\"colab-df-container\">\n",
              "      <div>\n",
              "<style scoped>\n",
              "    .dataframe tbody tr th:only-of-type {\n",
              "        vertical-align: middle;\n",
              "    }\n",
              "\n",
              "    .dataframe tbody tr th {\n",
              "        vertical-align: top;\n",
              "    }\n",
              "\n",
              "    .dataframe thead th {\n",
              "        text-align: right;\n",
              "    }\n",
              "</style>\n",
              "<table border=\"1\" class=\"dataframe\">\n",
              "  <thead>\n",
              "    <tr style=\"text-align: right;\">\n",
              "      <th></th>\n",
              "      <th>total_con</th>\n",
              "      <th>F1</th>\n",
              "      <th>F2</th>\n",
              "      <th>F3</th>\n",
              "      <th>F4</th>\n",
              "      <th>F5</th>\n",
              "      <th>pH</th>\n",
              "      <th>EC</th>\n",
              "      <th>OM</th>\n",
              "      <th>target (BF)</th>\n",
              "    </tr>\n",
              "  </thead>\n",
              "  <tbody>\n",
              "    <tr>\n",
              "      <th>M1</th>\n",
              "      <td>105</td>\n",
              "      <td>10.42</td>\n",
              "      <td>7.53</td>\n",
              "      <td>13.55</td>\n",
              "      <td>12.72</td>\n",
              "      <td>55.78</td>\n",
              "      <td>6.80</td>\n",
              "      <td>970</td>\n",
              "      <td>8.40</td>\n",
              "      <td>17.95</td>\n",
              "    </tr>\n",
              "    <tr>\n",
              "      <th>M4</th>\n",
              "      <td>88</td>\n",
              "      <td>9.38</td>\n",
              "      <td>5.40</td>\n",
              "      <td>15.83</td>\n",
              "      <td>12.35</td>\n",
              "      <td>57.04</td>\n",
              "      <td>7.10</td>\n",
              "      <td>1060</td>\n",
              "      <td>8.00</td>\n",
              "      <td>14.78</td>\n",
              "    </tr>\n",
              "    <tr>\n",
              "      <th>M6</th>\n",
              "      <td>89</td>\n",
              "      <td>1.12</td>\n",
              "      <td>3.34</td>\n",
              "      <td>5.11</td>\n",
              "      <td>3.27</td>\n",
              "      <td>87.16</td>\n",
              "      <td>7.06</td>\n",
              "      <td>840</td>\n",
              "      <td>7.98</td>\n",
              "      <td>4.46</td>\n",
              "    </tr>\n",
              "    <tr>\n",
              "      <th>M8</th>\n",
              "      <td>110</td>\n",
              "      <td>0.98</td>\n",
              "      <td>2.53</td>\n",
              "      <td>4.31</td>\n",
              "      <td>4.74</td>\n",
              "      <td>87.44</td>\n",
              "      <td>6.90</td>\n",
              "      <td>1190</td>\n",
              "      <td>8.11</td>\n",
              "      <td>3.51</td>\n",
              "    </tr>\n",
              "    <tr>\n",
              "      <th>M12</th>\n",
              "      <td>149</td>\n",
              "      <td>13.38</td>\n",
              "      <td>3.12</td>\n",
              "      <td>13.78</td>\n",
              "      <td>4.74</td>\n",
              "      <td>59.77</td>\n",
              "      <td>7.11</td>\n",
              "      <td>1185</td>\n",
              "      <td>7.50</td>\n",
              "      <td>16.50</td>\n",
              "    </tr>\n",
              "  </tbody>\n",
              "</table>\n",
              "</div>\n",
              "      <button class=\"colab-df-convert\" onclick=\"convertToInteractive('df-7acd8772-1816-4ed3-a447-f6d88e3a159b')\"\n",
              "              title=\"Convert this dataframe to an interactive table.\"\n",
              "              style=\"display:none;\">\n",
              "        \n",
              "  <svg xmlns=\"http://www.w3.org/2000/svg\" height=\"24px\"viewBox=\"0 0 24 24\"\n",
              "       width=\"24px\">\n",
              "    <path d=\"M0 0h24v24H0V0z\" fill=\"none\"/>\n",
              "    <path d=\"M18.56 5.44l.94 2.06.94-2.06 2.06-.94-2.06-.94-.94-2.06-.94 2.06-2.06.94zm-11 1L8.5 8.5l.94-2.06 2.06-.94-2.06-.94L8.5 2.5l-.94 2.06-2.06.94zm10 10l.94 2.06.94-2.06 2.06-.94-2.06-.94-.94-2.06-.94 2.06-2.06.94z\"/><path d=\"M17.41 7.96l-1.37-1.37c-.4-.4-.92-.59-1.43-.59-.52 0-1.04.2-1.43.59L10.3 9.45l-7.72 7.72c-.78.78-.78 2.05 0 2.83L4 21.41c.39.39.9.59 1.41.59.51 0 1.02-.2 1.41-.59l7.78-7.78 2.81-2.81c.8-.78.8-2.07 0-2.86zM5.41 20L4 18.59l7.72-7.72 1.47 1.35L5.41 20z\"/>\n",
              "  </svg>\n",
              "      </button>\n",
              "      \n",
              "  <style>\n",
              "    .colab-df-container {\n",
              "      display:flex;\n",
              "      flex-wrap:wrap;\n",
              "      gap: 12px;\n",
              "    }\n",
              "\n",
              "    .colab-df-convert {\n",
              "      background-color: #E8F0FE;\n",
              "      border: none;\n",
              "      border-radius: 50%;\n",
              "      cursor: pointer;\n",
              "      display: none;\n",
              "      fill: #1967D2;\n",
              "      height: 32px;\n",
              "      padding: 0 0 0 0;\n",
              "      width: 32px;\n",
              "    }\n",
              "\n",
              "    .colab-df-convert:hover {\n",
              "      background-color: #E2EBFA;\n",
              "      box-shadow: 0px 1px 2px rgba(60, 64, 67, 0.3), 0px 1px 3px 1px rgba(60, 64, 67, 0.15);\n",
              "      fill: #174EA6;\n",
              "    }\n",
              "\n",
              "    [theme=dark] .colab-df-convert {\n",
              "      background-color: #3B4455;\n",
              "      fill: #D2E3FC;\n",
              "    }\n",
              "\n",
              "    [theme=dark] .colab-df-convert:hover {\n",
              "      background-color: #434B5C;\n",
              "      box-shadow: 0px 1px 3px 1px rgba(0, 0, 0, 0.15);\n",
              "      filter: drop-shadow(0px 1px 2px rgba(0, 0, 0, 0.3));\n",
              "      fill: #FFFFFF;\n",
              "    }\n",
              "  </style>\n",
              "\n",
              "      <script>\n",
              "        const buttonEl =\n",
              "          document.querySelector('#df-7acd8772-1816-4ed3-a447-f6d88e3a159b button.colab-df-convert');\n",
              "        buttonEl.style.display =\n",
              "          google.colab.kernel.accessAllowed ? 'block' : 'none';\n",
              "\n",
              "        async function convertToInteractive(key) {\n",
              "          const element = document.querySelector('#df-7acd8772-1816-4ed3-a447-f6d88e3a159b');\n",
              "          const dataTable =\n",
              "            await google.colab.kernel.invokeFunction('convertToInteractive',\n",
              "                                                     [key], {});\n",
              "          if (!dataTable) return;\n",
              "\n",
              "          const docLinkHtml = 'Like what you see? Visit the ' +\n",
              "            '<a target=\"_blank\" href=https://colab.research.google.com/notebooks/data_table.ipynb>data table notebook</a>'\n",
              "            + ' to learn more about interactive tables.';\n",
              "          element.innerHTML = '';\n",
              "          dataTable['output_type'] = 'display_data';\n",
              "          await google.colab.output.renderOutput(dataTable, element);\n",
              "          const docLink = document.createElement('div');\n",
              "          docLink.innerHTML = docLinkHtml;\n",
              "          element.appendChild(docLink);\n",
              "        }\n",
              "      </script>\n",
              "    </div>\n",
              "  </div>\n",
              "  "
            ]
          },
          "metadata": {},
          "execution_count": 2
        }
      ]
    },
    {
      "cell_type": "markdown",
      "source": [
        "# Preproccesing"
      ],
      "metadata": {
        "id": "wOduItTNokIR"
      }
    },
    {
      "cell_type": "code",
      "source": [
        "data.describe()"
      ],
      "metadata": {
        "colab": {
          "base_uri": "https://localhost:8080/",
          "height": 300
        },
        "id": "35iDrU5Wojyh",
        "outputId": "f49dcaba-0aac-4c92-9e45-5da247c87a9f"
      },
      "execution_count": null,
      "outputs": [
        {
          "output_type": "execute_result",
          "data": {
            "text/plain": [
              "        total_con         F1         F2         F3         F4         F5  \\\n",
              "count   11.000000  11.000000  11.000000  11.000000  11.000000  11.000000   \n",
              "mean   108.000000   7.100000   3.136364   8.373636   9.481818  71.434545   \n",
              "std     31.902978   5.142398   1.811597   4.444262   5.461631  13.549022   \n",
              "min     76.000000   0.960000   1.410000   4.010000   3.270000  55.780000   \n",
              "25%     85.000000   1.350000   2.085000   4.710000   4.525000  60.085000   \n",
              "50%     97.000000   8.320000   2.530000   6.320000  10.820000  67.400000   \n",
              "75%    129.500000   9.900000   3.230000  12.590000  13.535000  87.150000   \n",
              "max    162.000000  14.870000   7.530000  15.830000  18.350000  89.220000   \n",
              "\n",
              "              pH           EC         OM  target (BF)  \n",
              "count  11.000000    11.000000  11.000000    11.000000  \n",
              "mean    7.001818  1097.727273   7.783636    10.236364  \n",
              "std     0.141691   328.499343   2.277763     6.016498  \n",
              "min     6.800000   560.000000   5.100000     2.370000  \n",
              "25%     6.860000   905.000000   6.825000     3.985000  \n",
              "50%     7.060000  1185.000000   7.500000    10.730000  \n",
              "75%     7.105000  1287.500000   8.055000    15.640000  \n",
              "max     7.190000  1585.000000  13.920000    17.950000  "
            ],
            "text/html": [
              "\n",
              "  <div id=\"df-656aab9d-6240-4875-90bb-3912d741c24a\">\n",
              "    <div class=\"colab-df-container\">\n",
              "      <div>\n",
              "<style scoped>\n",
              "    .dataframe tbody tr th:only-of-type {\n",
              "        vertical-align: middle;\n",
              "    }\n",
              "\n",
              "    .dataframe tbody tr th {\n",
              "        vertical-align: top;\n",
              "    }\n",
              "\n",
              "    .dataframe thead th {\n",
              "        text-align: right;\n",
              "    }\n",
              "</style>\n",
              "<table border=\"1\" class=\"dataframe\">\n",
              "  <thead>\n",
              "    <tr style=\"text-align: right;\">\n",
              "      <th></th>\n",
              "      <th>total_con</th>\n",
              "      <th>F1</th>\n",
              "      <th>F2</th>\n",
              "      <th>F3</th>\n",
              "      <th>F4</th>\n",
              "      <th>F5</th>\n",
              "      <th>pH</th>\n",
              "      <th>EC</th>\n",
              "      <th>OM</th>\n",
              "      <th>target (BF)</th>\n",
              "    </tr>\n",
              "  </thead>\n",
              "  <tbody>\n",
              "    <tr>\n",
              "      <th>count</th>\n",
              "      <td>11.000000</td>\n",
              "      <td>11.000000</td>\n",
              "      <td>11.000000</td>\n",
              "      <td>11.000000</td>\n",
              "      <td>11.000000</td>\n",
              "      <td>11.000000</td>\n",
              "      <td>11.000000</td>\n",
              "      <td>11.000000</td>\n",
              "      <td>11.000000</td>\n",
              "      <td>11.000000</td>\n",
              "    </tr>\n",
              "    <tr>\n",
              "      <th>mean</th>\n",
              "      <td>108.000000</td>\n",
              "      <td>7.100000</td>\n",
              "      <td>3.136364</td>\n",
              "      <td>8.373636</td>\n",
              "      <td>9.481818</td>\n",
              "      <td>71.434545</td>\n",
              "      <td>7.001818</td>\n",
              "      <td>1097.727273</td>\n",
              "      <td>7.783636</td>\n",
              "      <td>10.236364</td>\n",
              "    </tr>\n",
              "    <tr>\n",
              "      <th>std</th>\n",
              "      <td>31.902978</td>\n",
              "      <td>5.142398</td>\n",
              "      <td>1.811597</td>\n",
              "      <td>4.444262</td>\n",
              "      <td>5.461631</td>\n",
              "      <td>13.549022</td>\n",
              "      <td>0.141691</td>\n",
              "      <td>328.499343</td>\n",
              "      <td>2.277763</td>\n",
              "      <td>6.016498</td>\n",
              "    </tr>\n",
              "    <tr>\n",
              "      <th>min</th>\n",
              "      <td>76.000000</td>\n",
              "      <td>0.960000</td>\n",
              "      <td>1.410000</td>\n",
              "      <td>4.010000</td>\n",
              "      <td>3.270000</td>\n",
              "      <td>55.780000</td>\n",
              "      <td>6.800000</td>\n",
              "      <td>560.000000</td>\n",
              "      <td>5.100000</td>\n",
              "      <td>2.370000</td>\n",
              "    </tr>\n",
              "    <tr>\n",
              "      <th>25%</th>\n",
              "      <td>85.000000</td>\n",
              "      <td>1.350000</td>\n",
              "      <td>2.085000</td>\n",
              "      <td>4.710000</td>\n",
              "      <td>4.525000</td>\n",
              "      <td>60.085000</td>\n",
              "      <td>6.860000</td>\n",
              "      <td>905.000000</td>\n",
              "      <td>6.825000</td>\n",
              "      <td>3.985000</td>\n",
              "    </tr>\n",
              "    <tr>\n",
              "      <th>50%</th>\n",
              "      <td>97.000000</td>\n",
              "      <td>8.320000</td>\n",
              "      <td>2.530000</td>\n",
              "      <td>6.320000</td>\n",
              "      <td>10.820000</td>\n",
              "      <td>67.400000</td>\n",
              "      <td>7.060000</td>\n",
              "      <td>1185.000000</td>\n",
              "      <td>7.500000</td>\n",
              "      <td>10.730000</td>\n",
              "    </tr>\n",
              "    <tr>\n",
              "      <th>75%</th>\n",
              "      <td>129.500000</td>\n",
              "      <td>9.900000</td>\n",
              "      <td>3.230000</td>\n",
              "      <td>12.590000</td>\n",
              "      <td>13.535000</td>\n",
              "      <td>87.150000</td>\n",
              "      <td>7.105000</td>\n",
              "      <td>1287.500000</td>\n",
              "      <td>8.055000</td>\n",
              "      <td>15.640000</td>\n",
              "    </tr>\n",
              "    <tr>\n",
              "      <th>max</th>\n",
              "      <td>162.000000</td>\n",
              "      <td>14.870000</td>\n",
              "      <td>7.530000</td>\n",
              "      <td>15.830000</td>\n",
              "      <td>18.350000</td>\n",
              "      <td>89.220000</td>\n",
              "      <td>7.190000</td>\n",
              "      <td>1585.000000</td>\n",
              "      <td>13.920000</td>\n",
              "      <td>17.950000</td>\n",
              "    </tr>\n",
              "  </tbody>\n",
              "</table>\n",
              "</div>\n",
              "      <button class=\"colab-df-convert\" onclick=\"convertToInteractive('df-656aab9d-6240-4875-90bb-3912d741c24a')\"\n",
              "              title=\"Convert this dataframe to an interactive table.\"\n",
              "              style=\"display:none;\">\n",
              "        \n",
              "  <svg xmlns=\"http://www.w3.org/2000/svg\" height=\"24px\"viewBox=\"0 0 24 24\"\n",
              "       width=\"24px\">\n",
              "    <path d=\"M0 0h24v24H0V0z\" fill=\"none\"/>\n",
              "    <path d=\"M18.56 5.44l.94 2.06.94-2.06 2.06-.94-2.06-.94-.94-2.06-.94 2.06-2.06.94zm-11 1L8.5 8.5l.94-2.06 2.06-.94-2.06-.94L8.5 2.5l-.94 2.06-2.06.94zm10 10l.94 2.06.94-2.06 2.06-.94-2.06-.94-.94-2.06-.94 2.06-2.06.94z\"/><path d=\"M17.41 7.96l-1.37-1.37c-.4-.4-.92-.59-1.43-.59-.52 0-1.04.2-1.43.59L10.3 9.45l-7.72 7.72c-.78.78-.78 2.05 0 2.83L4 21.41c.39.39.9.59 1.41.59.51 0 1.02-.2 1.41-.59l7.78-7.78 2.81-2.81c.8-.78.8-2.07 0-2.86zM5.41 20L4 18.59l7.72-7.72 1.47 1.35L5.41 20z\"/>\n",
              "  </svg>\n",
              "      </button>\n",
              "      \n",
              "  <style>\n",
              "    .colab-df-container {\n",
              "      display:flex;\n",
              "      flex-wrap:wrap;\n",
              "      gap: 12px;\n",
              "    }\n",
              "\n",
              "    .colab-df-convert {\n",
              "      background-color: #E8F0FE;\n",
              "      border: none;\n",
              "      border-radius: 50%;\n",
              "      cursor: pointer;\n",
              "      display: none;\n",
              "      fill: #1967D2;\n",
              "      height: 32px;\n",
              "      padding: 0 0 0 0;\n",
              "      width: 32px;\n",
              "    }\n",
              "\n",
              "    .colab-df-convert:hover {\n",
              "      background-color: #E2EBFA;\n",
              "      box-shadow: 0px 1px 2px rgba(60, 64, 67, 0.3), 0px 1px 3px 1px rgba(60, 64, 67, 0.15);\n",
              "      fill: #174EA6;\n",
              "    }\n",
              "\n",
              "    [theme=dark] .colab-df-convert {\n",
              "      background-color: #3B4455;\n",
              "      fill: #D2E3FC;\n",
              "    }\n",
              "\n",
              "    [theme=dark] .colab-df-convert:hover {\n",
              "      background-color: #434B5C;\n",
              "      box-shadow: 0px 1px 3px 1px rgba(0, 0, 0, 0.15);\n",
              "      filter: drop-shadow(0px 1px 2px rgba(0, 0, 0, 0.3));\n",
              "      fill: #FFFFFF;\n",
              "    }\n",
              "  </style>\n",
              "\n",
              "      <script>\n",
              "        const buttonEl =\n",
              "          document.querySelector('#df-656aab9d-6240-4875-90bb-3912d741c24a button.colab-df-convert');\n",
              "        buttonEl.style.display =\n",
              "          google.colab.kernel.accessAllowed ? 'block' : 'none';\n",
              "\n",
              "        async function convertToInteractive(key) {\n",
              "          const element = document.querySelector('#df-656aab9d-6240-4875-90bb-3912d741c24a');\n",
              "          const dataTable =\n",
              "            await google.colab.kernel.invokeFunction('convertToInteractive',\n",
              "                                                     [key], {});\n",
              "          if (!dataTable) return;\n",
              "\n",
              "          const docLinkHtml = 'Like what you see? Visit the ' +\n",
              "            '<a target=\"_blank\" href=https://colab.research.google.com/notebooks/data_table.ipynb>data table notebook</a>'\n",
              "            + ' to learn more about interactive tables.';\n",
              "          element.innerHTML = '';\n",
              "          dataTable['output_type'] = 'display_data';\n",
              "          await google.colab.output.renderOutput(dataTable, element);\n",
              "          const docLink = document.createElement('div');\n",
              "          docLink.innerHTML = docLinkHtml;\n",
              "          element.appendChild(docLink);\n",
              "        }\n",
              "      </script>\n",
              "    </div>\n",
              "  </div>\n",
              "  "
            ]
          },
          "metadata": {},
          "execution_count": 3
        }
      ]
    },
    {
      "cell_type": "code",
      "source": [
        "data.info()"
      ],
      "metadata": {
        "colab": {
          "base_uri": "https://localhost:8080/"
        },
        "id": "-iYFKQh7ox5N",
        "outputId": "dba9b952-b222-4660-e357-8d3c66740b3a"
      },
      "execution_count": null,
      "outputs": [
        {
          "output_type": "stream",
          "name": "stdout",
          "text": [
            "<class 'pandas.core.frame.DataFrame'>\n",
            "Index: 11 entries, M1 to M20\n",
            "Data columns (total 10 columns):\n",
            " #   Column       Non-Null Count  Dtype  \n",
            "---  ------       --------------  -----  \n",
            " 0   total_con    11 non-null     int64  \n",
            " 1   F1           11 non-null     float64\n",
            " 2   F2           11 non-null     float64\n",
            " 3   F3           11 non-null     float64\n",
            " 4   F4           11 non-null     float64\n",
            " 5   F5           11 non-null     float64\n",
            " 6   pH           11 non-null     float64\n",
            " 7   EC           11 non-null     int64  \n",
            " 8   OM           11 non-null     float64\n",
            " 9   target (BF)  11 non-null     float64\n",
            "dtypes: float64(8), int64(2)\n",
            "memory usage: 968.0+ bytes\n"
          ]
        }
      ]
    },
    {
      "cell_type": "markdown",
      "source": [
        "Let's creating synthetic data for better performance\n",
        "\n",
        "---\n",
        "# Creating Synthetic Data Vault_SDV\n"
      ],
      "metadata": {
        "id": "bLtFnr6JpeGy"
      }
    },
    {
      "cell_type": "code",
      "source": [
        "!pip install sdv"
      ],
      "metadata": {
        "colab": {
          "base_uri": "https://localhost:8080/",
          "height": 1000
        },
        "id": "KkH3mKlsppeL",
        "outputId": "452ebe1b-9789-45a6-d31a-1bd2208c1878"
      },
      "execution_count": null,
      "outputs": [
        {
          "output_type": "stream",
          "name": "stdout",
          "text": [
            "Looking in indexes: https://pypi.org/simple, https://us-python.pkg.dev/colab-wheels/public/simple/\n",
            "Collecting sdv\n",
            "  Downloading sdv-0.18.0-py2.py3-none-any.whl (103 kB)\n",
            "\u001b[2K     \u001b[90m━━━━━━━━━━━━━━━━━━━━━━━━━━━━━━━━━━━━━━━\u001b[0m \u001b[32m103.2/103.2 KB\u001b[0m \u001b[31m3.5 MB/s\u001b[0m eta \u001b[36m0:00:00\u001b[0m\n",
            "\u001b[?25hCollecting graphviz<1,>=0.13.2\n",
            "  Downloading graphviz-0.20.1-py3-none-any.whl (47 kB)\n",
            "\u001b[2K     \u001b[90m━━━━━━━━━━━━━━━━━━━━━━━━━━━━━━━━━━━━━━━━\u001b[0m \u001b[32m47.0/47.0 KB\u001b[0m \u001b[31m4.2 MB/s\u001b[0m eta \u001b[36m0:00:00\u001b[0m\n",
            "\u001b[?25hRequirement already satisfied: numpy<2,>=1.20.0 in /usr/local/lib/python3.8/dist-packages (from sdv) (1.21.6)\n",
            "Collecting Faker<15,>=10\n",
            "  Downloading Faker-14.2.1-py3-none-any.whl (1.6 MB)\n",
            "\u001b[2K     \u001b[90m━━━━━━━━━━━━━━━━━━━━━━━━━━━━━━━━━━━━━━━━\u001b[0m \u001b[32m1.6/1.6 MB\u001b[0m \u001b[31m27.1 MB/s\u001b[0m eta \u001b[36m0:00:00\u001b[0m\n",
            "\u001b[?25hRequirement already satisfied: cloudpickle<3.0,>=2.1.0 in /usr/local/lib/python3.8/dist-packages (from sdv) (2.2.1)\n",
            "Collecting deepecho<0.5,>=0.4.0\n",
            "  Downloading deepecho-0.4.0-py2.py3-none-any.whl (28 kB)\n",
            "Requirement already satisfied: pandas<2,>=1.1.3 in /usr/local/lib/python3.8/dist-packages (from sdv) (1.3.5)\n",
            "Collecting copulas<0.9,>=0.8.0\n",
            "  Downloading copulas-0.8.0-py2.py3-none-any.whl (53 kB)\n",
            "\u001b[2K     \u001b[90m━━━━━━━━━━━━━━━━━━━━━━━━━━━━━━━━━━━━━━━━\u001b[0m \u001b[32m53.6/53.6 KB\u001b[0m \u001b[31m4.8 MB/s\u001b[0m eta \u001b[36m0:00:00\u001b[0m\n",
            "\u001b[?25hRequirement already satisfied: tqdm<5,>=4.15 in /usr/local/lib/python3.8/dist-packages (from sdv) (4.64.1)\n",
            "Collecting rdt<2,>=1.3.0\n",
            "  Downloading rdt-1.3.0-py2.py3-none-any.whl (63 kB)\n",
            "\u001b[2K     \u001b[90m━━━━━━━━━━━━━━━━━━━━━━━━━━━━━━━━━━━━━━━━\u001b[0m \u001b[32m63.6/63.6 KB\u001b[0m \u001b[31m5.9 MB/s\u001b[0m eta \u001b[36m0:00:00\u001b[0m\n",
            "\u001b[?25hCollecting ctgan<0.8,>=0.7.0\n",
            "  Downloading ctgan-0.7.0-py2.py3-none-any.whl (25 kB)\n",
            "Collecting sdmetrics<0.10,>=0.9.0\n",
            "  Downloading sdmetrics-0.9.0-py2.py3-none-any.whl (140 kB)\n",
            "\u001b[2K     \u001b[90m━━━━━━━━━━━━━━━━━━━━━━━━━━━━━━━━━━━━━━\u001b[0m \u001b[32m140.0/140.0 KB\u001b[0m \u001b[31m12.7 MB/s\u001b[0m eta \u001b[36m0:00:00\u001b[0m\n",
            "\u001b[?25hCollecting matplotlib<4,>=3.4.0\n",
            "  Downloading matplotlib-3.6.3-cp38-cp38-manylinux_2_12_x86_64.manylinux2010_x86_64.whl (9.4 MB)\n",
            "\u001b[2K     \u001b[90m━━━━━━━━━━━━━━━━━━━━━━━━━━━━━━━━━━━━━━━━\u001b[0m \u001b[32m9.4/9.4 MB\u001b[0m \u001b[31m52.0 MB/s\u001b[0m eta \u001b[36m0:00:00\u001b[0m\n",
            "\u001b[?25hRequirement already satisfied: scipy<2,>=1.5.4 in /usr/local/lib/python3.8/dist-packages (from copulas<0.9,>=0.8.0->sdv) (1.7.3)\n",
            "Requirement already satisfied: torch<2,>=1.8.0 in /usr/local/lib/python3.8/dist-packages (from ctgan<0.8,>=0.7.0->sdv) (1.13.1+cu116)\n",
            "Collecting packaging<22,>=20\n",
            "  Downloading packaging-21.3-py3-none-any.whl (40 kB)\n",
            "\u001b[2K     \u001b[90m━━━━━━━━━━━━━━━━━━━━━━━━━━━━━━━━━━━━━━━━\u001b[0m \u001b[32m40.8/40.8 KB\u001b[0m \u001b[31m3.6 MB/s\u001b[0m eta \u001b[36m0:00:00\u001b[0m\n",
            "\u001b[?25hRequirement already satisfied: python-dateutil>=2.4 in /usr/local/lib/python3.8/dist-packages (from Faker<15,>=10->sdv) (2.8.2)\n",
            "Requirement already satisfied: pytz>=2017.3 in /usr/local/lib/python3.8/dist-packages (from pandas<2,>=1.1.3->sdv) (2022.7.1)\n",
            "Collecting psutil<6,>=5.7\n",
            "  Downloading psutil-5.9.4-cp36-abi3-manylinux_2_12_x86_64.manylinux2010_x86_64.manylinux_2_17_x86_64.manylinux2014_x86_64.whl (280 kB)\n",
            "\u001b[2K     \u001b[90m━━━━━━━━━━━━━━━━━━━━━━━━━━━━━━━━━━━━━━\u001b[0m \u001b[32m280.2/280.2 KB\u001b[0m \u001b[31m22.8 MB/s\u001b[0m eta \u001b[36m0:00:00\u001b[0m\n",
            "\u001b[?25hRequirement already satisfied: scikit-learn<2,>=0.24 in /usr/local/lib/python3.8/dist-packages (from rdt<2,>=1.3.0->sdv) (1.0.2)\n",
            "Collecting plotly<6,>=5.10.0\n",
            "  Downloading plotly-5.13.0-py2.py3-none-any.whl (15.2 MB)\n",
            "\u001b[2K     \u001b[90m━━━━━━━━━━━━━━━━━━━━━━━━━━━━━━━━━━━━━━━━\u001b[0m \u001b[32m15.2/15.2 MB\u001b[0m \u001b[31m59.5 MB/s\u001b[0m eta \u001b[36m0:00:00\u001b[0m\n",
            "\u001b[?25hRequirement already satisfied: pyparsing>=2.2.1 in /usr/local/lib/python3.8/dist-packages (from matplotlib<4,>=3.4.0->copulas<0.9,>=0.8.0->sdv) (3.0.9)\n",
            "Collecting fonttools>=4.22.0\n",
            "  Downloading fonttools-4.38.0-py3-none-any.whl (965 kB)\n",
            "\u001b[2K     \u001b[90m━━━━━━━━━━━━━━━━━━━━━━━━━━━━━━━━━━━━━━\u001b[0m \u001b[32m965.4/965.4 KB\u001b[0m \u001b[31m51.2 MB/s\u001b[0m eta \u001b[36m0:00:00\u001b[0m\n",
            "\u001b[?25hRequirement already satisfied: pillow>=6.2.0 in /usr/local/lib/python3.8/dist-packages (from matplotlib<4,>=3.4.0->copulas<0.9,>=0.8.0->sdv) (7.1.2)\n",
            "Requirement already satisfied: cycler>=0.10 in /usr/local/lib/python3.8/dist-packages (from matplotlib<4,>=3.4.0->copulas<0.9,>=0.8.0->sdv) (0.11.0)\n",
            "Requirement already satisfied: kiwisolver>=1.0.1 in /usr/local/lib/python3.8/dist-packages (from matplotlib<4,>=3.4.0->copulas<0.9,>=0.8.0->sdv) (1.4.4)\n",
            "Collecting contourpy>=1.0.1\n",
            "  Downloading contourpy-1.0.7-cp38-cp38-manylinux_2_17_x86_64.manylinux2014_x86_64.whl (300 kB)\n",
            "\u001b[2K     \u001b[90m━━━━━━━━━━━━━━━━━━━━━━━━━━━━━━━━━━━━━━\u001b[0m \u001b[32m300.0/300.0 KB\u001b[0m \u001b[31m24.7 MB/s\u001b[0m eta \u001b[36m0:00:00\u001b[0m\n",
            "\u001b[?25hRequirement already satisfied: tenacity>=6.2.0 in /usr/local/lib/python3.8/dist-packages (from plotly<6,>=5.10.0->sdmetrics<0.10,>=0.9.0->sdv) (8.2.0)\n",
            "Requirement already satisfied: six>=1.5 in /usr/local/lib/python3.8/dist-packages (from python-dateutil>=2.4->Faker<15,>=10->sdv) (1.15.0)\n",
            "Requirement already satisfied: threadpoolctl>=2.0.0 in /usr/local/lib/python3.8/dist-packages (from scikit-learn<2,>=0.24->rdt<2,>=1.3.0->sdv) (3.1.0)\n",
            "Requirement already satisfied: joblib>=0.11 in /usr/local/lib/python3.8/dist-packages (from scikit-learn<2,>=0.24->rdt<2,>=1.3.0->sdv) (1.2.0)\n",
            "Requirement already satisfied: typing-extensions in /usr/local/lib/python3.8/dist-packages (from torch<2,>=1.8.0->ctgan<0.8,>=0.7.0->sdv) (4.4.0)\n",
            "Installing collected packages: psutil, plotly, packaging, graphviz, fonttools, contourpy, matplotlib, Faker, rdt, deepecho, copulas, sdmetrics, ctgan, sdv\n",
            "  Attempting uninstall: psutil\n",
            "    Found existing installation: psutil 5.4.8\n",
            "    Uninstalling psutil-5.4.8:\n",
            "      Successfully uninstalled psutil-5.4.8\n",
            "  Attempting uninstall: plotly\n",
            "    Found existing installation: plotly 5.5.0\n",
            "    Uninstalling plotly-5.5.0:\n",
            "      Successfully uninstalled plotly-5.5.0\n",
            "  Attempting uninstall: packaging\n",
            "    Found existing installation: packaging 23.0\n",
            "    Uninstalling packaging-23.0:\n",
            "      Successfully uninstalled packaging-23.0\n",
            "  Attempting uninstall: graphviz\n",
            "    Found existing installation: graphviz 0.10.1\n",
            "    Uninstalling graphviz-0.10.1:\n",
            "      Successfully uninstalled graphviz-0.10.1\n",
            "  Attempting uninstall: matplotlib\n",
            "    Found existing installation: matplotlib 3.2.2\n",
            "    Uninstalling matplotlib-3.2.2:\n",
            "      Successfully uninstalled matplotlib-3.2.2\n",
            "Successfully installed Faker-14.2.1 contourpy-1.0.7 copulas-0.8.0 ctgan-0.7.0 deepecho-0.4.0 fonttools-4.38.0 graphviz-0.20.1 matplotlib-3.6.3 packaging-21.3 plotly-5.13.0 psutil-5.9.4 rdt-1.3.0 sdmetrics-0.9.0 sdv-0.18.0\n"
          ]
        },
        {
          "output_type": "display_data",
          "data": {
            "application/vnd.colab-display-data+json": {
              "pip_warning": {
                "packages": [
                  "matplotlib",
                  "mpl_toolkits",
                  "psutil"
                ]
              }
            }
          },
          "metadata": {}
        }
      ]
    },
    {
      "cell_type": "markdown",
      "source": [
        "**GaussianCopula Model**"
      ],
      "metadata": {
        "id": "ULBwLfArpvCH"
      }
    },
    {
      "cell_type": "code",
      "source": [
        "#model fitting\n",
        "\n",
        "from sdv.tabular import GaussianCopula\n",
        "\n",
        "model = GaussianCopula()\n",
        "model.fit(data)"
      ],
      "metadata": {
        "id": "W_2X5gJOpuok"
      },
      "execution_count": null,
      "outputs": []
    },
    {
      "cell_type": "code",
      "source": [
        "#Generate synthetic data from the model\n",
        "\n",
        "data_gc = model.sample(num_rows=89)"
      ],
      "metadata": {
        "id": "iMb_MnYYp0l4"
      },
      "execution_count": null,
      "outputs": []
    },
    {
      "cell_type": "code",
      "source": [
        "#Concat real and new dataframes\n",
        "\n",
        "frames= [data, data_gc]\n",
        "data_result = pd.concat(frames)\n",
        "data_result= data_result.reset_index(drop=True)\n",
        "data_result.head()"
      ],
      "metadata": {
        "colab": {
          "base_uri": "https://localhost:8080/",
          "height": 206
        },
        "id": "-UydU3Gmq9x1",
        "outputId": "26c72062-c45a-4fe8-f37b-561780dafb65"
      },
      "execution_count": null,
      "outputs": [
        {
          "output_type": "execute_result",
          "data": {
            "text/plain": [
              "   total_con     F1    F2     F3     F4     F5    pH    EC    OM  target (BF)\n",
              "0        105  10.42  7.53  13.55  12.72  55.78  6.80   970  8.40        17.95\n",
              "1         88   9.38  5.40  15.83  12.35  57.04  7.10  1060  8.00        14.78\n",
              "2         89   1.12  3.34   5.11   3.27  87.16  7.06   840  7.98         4.46\n",
              "3        110   0.98  2.53   4.31   4.74  87.44  6.90  1190  8.11         3.51\n",
              "4        149  13.38  3.12  13.78   4.74  59.77  7.11  1185  7.50        16.50"
            ],
            "text/html": [
              "\n",
              "  <div id=\"df-dccfd80b-c6b5-4840-9de5-ad5a18a50b19\">\n",
              "    <div class=\"colab-df-container\">\n",
              "      <div>\n",
              "<style scoped>\n",
              "    .dataframe tbody tr th:only-of-type {\n",
              "        vertical-align: middle;\n",
              "    }\n",
              "\n",
              "    .dataframe tbody tr th {\n",
              "        vertical-align: top;\n",
              "    }\n",
              "\n",
              "    .dataframe thead th {\n",
              "        text-align: right;\n",
              "    }\n",
              "</style>\n",
              "<table border=\"1\" class=\"dataframe\">\n",
              "  <thead>\n",
              "    <tr style=\"text-align: right;\">\n",
              "      <th></th>\n",
              "      <th>total_con</th>\n",
              "      <th>F1</th>\n",
              "      <th>F2</th>\n",
              "      <th>F3</th>\n",
              "      <th>F4</th>\n",
              "      <th>F5</th>\n",
              "      <th>pH</th>\n",
              "      <th>EC</th>\n",
              "      <th>OM</th>\n",
              "      <th>target (BF)</th>\n",
              "    </tr>\n",
              "  </thead>\n",
              "  <tbody>\n",
              "    <tr>\n",
              "      <th>0</th>\n",
              "      <td>105</td>\n",
              "      <td>10.42</td>\n",
              "      <td>7.53</td>\n",
              "      <td>13.55</td>\n",
              "      <td>12.72</td>\n",
              "      <td>55.78</td>\n",
              "      <td>6.80</td>\n",
              "      <td>970</td>\n",
              "      <td>8.40</td>\n",
              "      <td>17.95</td>\n",
              "    </tr>\n",
              "    <tr>\n",
              "      <th>1</th>\n",
              "      <td>88</td>\n",
              "      <td>9.38</td>\n",
              "      <td>5.40</td>\n",
              "      <td>15.83</td>\n",
              "      <td>12.35</td>\n",
              "      <td>57.04</td>\n",
              "      <td>7.10</td>\n",
              "      <td>1060</td>\n",
              "      <td>8.00</td>\n",
              "      <td>14.78</td>\n",
              "    </tr>\n",
              "    <tr>\n",
              "      <th>2</th>\n",
              "      <td>89</td>\n",
              "      <td>1.12</td>\n",
              "      <td>3.34</td>\n",
              "      <td>5.11</td>\n",
              "      <td>3.27</td>\n",
              "      <td>87.16</td>\n",
              "      <td>7.06</td>\n",
              "      <td>840</td>\n",
              "      <td>7.98</td>\n",
              "      <td>4.46</td>\n",
              "    </tr>\n",
              "    <tr>\n",
              "      <th>3</th>\n",
              "      <td>110</td>\n",
              "      <td>0.98</td>\n",
              "      <td>2.53</td>\n",
              "      <td>4.31</td>\n",
              "      <td>4.74</td>\n",
              "      <td>87.44</td>\n",
              "      <td>6.90</td>\n",
              "      <td>1190</td>\n",
              "      <td>8.11</td>\n",
              "      <td>3.51</td>\n",
              "    </tr>\n",
              "    <tr>\n",
              "      <th>4</th>\n",
              "      <td>149</td>\n",
              "      <td>13.38</td>\n",
              "      <td>3.12</td>\n",
              "      <td>13.78</td>\n",
              "      <td>4.74</td>\n",
              "      <td>59.77</td>\n",
              "      <td>7.11</td>\n",
              "      <td>1185</td>\n",
              "      <td>7.50</td>\n",
              "      <td>16.50</td>\n",
              "    </tr>\n",
              "  </tbody>\n",
              "</table>\n",
              "</div>\n",
              "      <button class=\"colab-df-convert\" onclick=\"convertToInteractive('df-dccfd80b-c6b5-4840-9de5-ad5a18a50b19')\"\n",
              "              title=\"Convert this dataframe to an interactive table.\"\n",
              "              style=\"display:none;\">\n",
              "        \n",
              "  <svg xmlns=\"http://www.w3.org/2000/svg\" height=\"24px\"viewBox=\"0 0 24 24\"\n",
              "       width=\"24px\">\n",
              "    <path d=\"M0 0h24v24H0V0z\" fill=\"none\"/>\n",
              "    <path d=\"M18.56 5.44l.94 2.06.94-2.06 2.06-.94-2.06-.94-.94-2.06-.94 2.06-2.06.94zm-11 1L8.5 8.5l.94-2.06 2.06-.94-2.06-.94L8.5 2.5l-.94 2.06-2.06.94zm10 10l.94 2.06.94-2.06 2.06-.94-2.06-.94-.94-2.06-.94 2.06-2.06.94z\"/><path d=\"M17.41 7.96l-1.37-1.37c-.4-.4-.92-.59-1.43-.59-.52 0-1.04.2-1.43.59L10.3 9.45l-7.72 7.72c-.78.78-.78 2.05 0 2.83L4 21.41c.39.39.9.59 1.41.59.51 0 1.02-.2 1.41-.59l7.78-7.78 2.81-2.81c.8-.78.8-2.07 0-2.86zM5.41 20L4 18.59l7.72-7.72 1.47 1.35L5.41 20z\"/>\n",
              "  </svg>\n",
              "      </button>\n",
              "      \n",
              "  <style>\n",
              "    .colab-df-container {\n",
              "      display:flex;\n",
              "      flex-wrap:wrap;\n",
              "      gap: 12px;\n",
              "    }\n",
              "\n",
              "    .colab-df-convert {\n",
              "      background-color: #E8F0FE;\n",
              "      border: none;\n",
              "      border-radius: 50%;\n",
              "      cursor: pointer;\n",
              "      display: none;\n",
              "      fill: #1967D2;\n",
              "      height: 32px;\n",
              "      padding: 0 0 0 0;\n",
              "      width: 32px;\n",
              "    }\n",
              "\n",
              "    .colab-df-convert:hover {\n",
              "      background-color: #E2EBFA;\n",
              "      box-shadow: 0px 1px 2px rgba(60, 64, 67, 0.3), 0px 1px 3px 1px rgba(60, 64, 67, 0.15);\n",
              "      fill: #174EA6;\n",
              "    }\n",
              "\n",
              "    [theme=dark] .colab-df-convert {\n",
              "      background-color: #3B4455;\n",
              "      fill: #D2E3FC;\n",
              "    }\n",
              "\n",
              "    [theme=dark] .colab-df-convert:hover {\n",
              "      background-color: #434B5C;\n",
              "      box-shadow: 0px 1px 3px 1px rgba(0, 0, 0, 0.15);\n",
              "      filter: drop-shadow(0px 1px 2px rgba(0, 0, 0, 0.3));\n",
              "      fill: #FFFFFF;\n",
              "    }\n",
              "  </style>\n",
              "\n",
              "      <script>\n",
              "        const buttonEl =\n",
              "          document.querySelector('#df-dccfd80b-c6b5-4840-9de5-ad5a18a50b19 button.colab-df-convert');\n",
              "        buttonEl.style.display =\n",
              "          google.colab.kernel.accessAllowed ? 'block' : 'none';\n",
              "\n",
              "        async function convertToInteractive(key) {\n",
              "          const element = document.querySelector('#df-dccfd80b-c6b5-4840-9de5-ad5a18a50b19');\n",
              "          const dataTable =\n",
              "            await google.colab.kernel.invokeFunction('convertToInteractive',\n",
              "                                                     [key], {});\n",
              "          if (!dataTable) return;\n",
              "\n",
              "          const docLinkHtml = 'Like what you see? Visit the ' +\n",
              "            '<a target=\"_blank\" href=https://colab.research.google.com/notebooks/data_table.ipynb>data table notebook</a>'\n",
              "            + ' to learn more about interactive tables.';\n",
              "          element.innerHTML = '';\n",
              "          dataTable['output_type'] = 'display_data';\n",
              "          await google.colab.output.renderOutput(dataTable, element);\n",
              "          const docLink = document.createElement('div');\n",
              "          docLink.innerHTML = docLinkHtml;\n",
              "          element.appendChild(docLink);\n",
              "        }\n",
              "      </script>\n",
              "    </div>\n",
              "  </div>\n",
              "  "
            ]
          },
          "metadata": {},
          "execution_count": 8
        }
      ]
    },
    {
      "cell_type": "code",
      "source": [
        "data_result.describe()"
      ],
      "metadata": {
        "colab": {
          "base_uri": "https://localhost:8080/",
          "height": 300
        },
        "id": "NnGJs7KyrRBC",
        "outputId": "c418cd1e-3a90-43d1-e55f-eb00d7d1a339"
      },
      "execution_count": null,
      "outputs": [
        {
          "output_type": "execute_result",
          "data": {
            "text/plain": [
              "        total_con          F1          F2          F3          F4          F5  \\\n",
              "count  100.000000  100.000000  100.000000  100.000000  100.000000  100.000000   \n",
              "mean   113.550000    8.208800    3.576400    9.665300   10.419000   70.524100   \n",
              "std     26.477883    4.231792    1.477266    3.514872    4.441646   10.022875   \n",
              "min     76.000000    0.960000    1.410000    4.010000    3.270000   55.780000   \n",
              "25%     89.750000    5.150000    2.377500    6.547500    6.360000   61.030000   \n",
              "50%    109.000000    8.455000    3.225000    9.465000   10.810000   69.355000   \n",
              "75%    136.250000   11.987500    4.590000   12.452500   13.940000   78.582500   \n",
              "max    162.000000   14.870000    7.530000   15.830000   18.350000   89.220000   \n",
              "\n",
              "               pH         EC          OM  target (BF)  \n",
              "count  100.000000   100.0000  100.000000   100.000000  \n",
              "mean     6.990200  1105.8600    7.889600    10.936700  \n",
              "std      0.103913   306.0373    2.137097     4.645852  \n",
              "min      6.800000   560.0000    5.100000     2.370000  \n",
              "25%      6.900000   843.7500    6.220000     7.110000  \n",
              "50%      7.010000  1104.0000    7.405000    11.075000  \n",
              "75%      7.060000  1389.2500    9.505000    15.537500  \n",
              "max      7.190000  1585.0000   13.920000    17.950000  "
            ],
            "text/html": [
              "\n",
              "  <div id=\"df-7e5fb8db-e63d-4d83-b287-ffd99ca21b24\">\n",
              "    <div class=\"colab-df-container\">\n",
              "      <div>\n",
              "<style scoped>\n",
              "    .dataframe tbody tr th:only-of-type {\n",
              "        vertical-align: middle;\n",
              "    }\n",
              "\n",
              "    .dataframe tbody tr th {\n",
              "        vertical-align: top;\n",
              "    }\n",
              "\n",
              "    .dataframe thead th {\n",
              "        text-align: right;\n",
              "    }\n",
              "</style>\n",
              "<table border=\"1\" class=\"dataframe\">\n",
              "  <thead>\n",
              "    <tr style=\"text-align: right;\">\n",
              "      <th></th>\n",
              "      <th>total_con</th>\n",
              "      <th>F1</th>\n",
              "      <th>F2</th>\n",
              "      <th>F3</th>\n",
              "      <th>F4</th>\n",
              "      <th>F5</th>\n",
              "      <th>pH</th>\n",
              "      <th>EC</th>\n",
              "      <th>OM</th>\n",
              "      <th>target (BF)</th>\n",
              "    </tr>\n",
              "  </thead>\n",
              "  <tbody>\n",
              "    <tr>\n",
              "      <th>count</th>\n",
              "      <td>100.000000</td>\n",
              "      <td>100.000000</td>\n",
              "      <td>100.000000</td>\n",
              "      <td>100.000000</td>\n",
              "      <td>100.000000</td>\n",
              "      <td>100.000000</td>\n",
              "      <td>100.000000</td>\n",
              "      <td>100.0000</td>\n",
              "      <td>100.000000</td>\n",
              "      <td>100.000000</td>\n",
              "    </tr>\n",
              "    <tr>\n",
              "      <th>mean</th>\n",
              "      <td>113.550000</td>\n",
              "      <td>8.208800</td>\n",
              "      <td>3.576400</td>\n",
              "      <td>9.665300</td>\n",
              "      <td>10.419000</td>\n",
              "      <td>70.524100</td>\n",
              "      <td>6.990200</td>\n",
              "      <td>1105.8600</td>\n",
              "      <td>7.889600</td>\n",
              "      <td>10.936700</td>\n",
              "    </tr>\n",
              "    <tr>\n",
              "      <th>std</th>\n",
              "      <td>26.477883</td>\n",
              "      <td>4.231792</td>\n",
              "      <td>1.477266</td>\n",
              "      <td>3.514872</td>\n",
              "      <td>4.441646</td>\n",
              "      <td>10.022875</td>\n",
              "      <td>0.103913</td>\n",
              "      <td>306.0373</td>\n",
              "      <td>2.137097</td>\n",
              "      <td>4.645852</td>\n",
              "    </tr>\n",
              "    <tr>\n",
              "      <th>min</th>\n",
              "      <td>76.000000</td>\n",
              "      <td>0.960000</td>\n",
              "      <td>1.410000</td>\n",
              "      <td>4.010000</td>\n",
              "      <td>3.270000</td>\n",
              "      <td>55.780000</td>\n",
              "      <td>6.800000</td>\n",
              "      <td>560.0000</td>\n",
              "      <td>5.100000</td>\n",
              "      <td>2.370000</td>\n",
              "    </tr>\n",
              "    <tr>\n",
              "      <th>25%</th>\n",
              "      <td>89.750000</td>\n",
              "      <td>5.150000</td>\n",
              "      <td>2.377500</td>\n",
              "      <td>6.547500</td>\n",
              "      <td>6.360000</td>\n",
              "      <td>61.030000</td>\n",
              "      <td>6.900000</td>\n",
              "      <td>843.7500</td>\n",
              "      <td>6.220000</td>\n",
              "      <td>7.110000</td>\n",
              "    </tr>\n",
              "    <tr>\n",
              "      <th>50%</th>\n",
              "      <td>109.000000</td>\n",
              "      <td>8.455000</td>\n",
              "      <td>3.225000</td>\n",
              "      <td>9.465000</td>\n",
              "      <td>10.810000</td>\n",
              "      <td>69.355000</td>\n",
              "      <td>7.010000</td>\n",
              "      <td>1104.0000</td>\n",
              "      <td>7.405000</td>\n",
              "      <td>11.075000</td>\n",
              "    </tr>\n",
              "    <tr>\n",
              "      <th>75%</th>\n",
              "      <td>136.250000</td>\n",
              "      <td>11.987500</td>\n",
              "      <td>4.590000</td>\n",
              "      <td>12.452500</td>\n",
              "      <td>13.940000</td>\n",
              "      <td>78.582500</td>\n",
              "      <td>7.060000</td>\n",
              "      <td>1389.2500</td>\n",
              "      <td>9.505000</td>\n",
              "      <td>15.537500</td>\n",
              "    </tr>\n",
              "    <tr>\n",
              "      <th>max</th>\n",
              "      <td>162.000000</td>\n",
              "      <td>14.870000</td>\n",
              "      <td>7.530000</td>\n",
              "      <td>15.830000</td>\n",
              "      <td>18.350000</td>\n",
              "      <td>89.220000</td>\n",
              "      <td>7.190000</td>\n",
              "      <td>1585.0000</td>\n",
              "      <td>13.920000</td>\n",
              "      <td>17.950000</td>\n",
              "    </tr>\n",
              "  </tbody>\n",
              "</table>\n",
              "</div>\n",
              "      <button class=\"colab-df-convert\" onclick=\"convertToInteractive('df-7e5fb8db-e63d-4d83-b287-ffd99ca21b24')\"\n",
              "              title=\"Convert this dataframe to an interactive table.\"\n",
              "              style=\"display:none;\">\n",
              "        \n",
              "  <svg xmlns=\"http://www.w3.org/2000/svg\" height=\"24px\"viewBox=\"0 0 24 24\"\n",
              "       width=\"24px\">\n",
              "    <path d=\"M0 0h24v24H0V0z\" fill=\"none\"/>\n",
              "    <path d=\"M18.56 5.44l.94 2.06.94-2.06 2.06-.94-2.06-.94-.94-2.06-.94 2.06-2.06.94zm-11 1L8.5 8.5l.94-2.06 2.06-.94-2.06-.94L8.5 2.5l-.94 2.06-2.06.94zm10 10l.94 2.06.94-2.06 2.06-.94-2.06-.94-.94-2.06-.94 2.06-2.06.94z\"/><path d=\"M17.41 7.96l-1.37-1.37c-.4-.4-.92-.59-1.43-.59-.52 0-1.04.2-1.43.59L10.3 9.45l-7.72 7.72c-.78.78-.78 2.05 0 2.83L4 21.41c.39.39.9.59 1.41.59.51 0 1.02-.2 1.41-.59l7.78-7.78 2.81-2.81c.8-.78.8-2.07 0-2.86zM5.41 20L4 18.59l7.72-7.72 1.47 1.35L5.41 20z\"/>\n",
              "  </svg>\n",
              "      </button>\n",
              "      \n",
              "  <style>\n",
              "    .colab-df-container {\n",
              "      display:flex;\n",
              "      flex-wrap:wrap;\n",
              "      gap: 12px;\n",
              "    }\n",
              "\n",
              "    .colab-df-convert {\n",
              "      background-color: #E8F0FE;\n",
              "      border: none;\n",
              "      border-radius: 50%;\n",
              "      cursor: pointer;\n",
              "      display: none;\n",
              "      fill: #1967D2;\n",
              "      height: 32px;\n",
              "      padding: 0 0 0 0;\n",
              "      width: 32px;\n",
              "    }\n",
              "\n",
              "    .colab-df-convert:hover {\n",
              "      background-color: #E2EBFA;\n",
              "      box-shadow: 0px 1px 2px rgba(60, 64, 67, 0.3), 0px 1px 3px 1px rgba(60, 64, 67, 0.15);\n",
              "      fill: #174EA6;\n",
              "    }\n",
              "\n",
              "    [theme=dark] .colab-df-convert {\n",
              "      background-color: #3B4455;\n",
              "      fill: #D2E3FC;\n",
              "    }\n",
              "\n",
              "    [theme=dark] .colab-df-convert:hover {\n",
              "      background-color: #434B5C;\n",
              "      box-shadow: 0px 1px 3px 1px rgba(0, 0, 0, 0.15);\n",
              "      filter: drop-shadow(0px 1px 2px rgba(0, 0, 0, 0.3));\n",
              "      fill: #FFFFFF;\n",
              "    }\n",
              "  </style>\n",
              "\n",
              "      <script>\n",
              "        const buttonEl =\n",
              "          document.querySelector('#df-7e5fb8db-e63d-4d83-b287-ffd99ca21b24 button.colab-df-convert');\n",
              "        buttonEl.style.display =\n",
              "          google.colab.kernel.accessAllowed ? 'block' : 'none';\n",
              "\n",
              "        async function convertToInteractive(key) {\n",
              "          const element = document.querySelector('#df-7e5fb8db-e63d-4d83-b287-ffd99ca21b24');\n",
              "          const dataTable =\n",
              "            await google.colab.kernel.invokeFunction('convertToInteractive',\n",
              "                                                     [key], {});\n",
              "          if (!dataTable) return;\n",
              "\n",
              "          const docLinkHtml = 'Like what you see? Visit the ' +\n",
              "            '<a target=\"_blank\" href=https://colab.research.google.com/notebooks/data_table.ipynb>data table notebook</a>'\n",
              "            + ' to learn more about interactive tables.';\n",
              "          element.innerHTML = '';\n",
              "          dataTable['output_type'] = 'display_data';\n",
              "          await google.colab.output.renderOutput(dataTable, element);\n",
              "          const docLink = document.createElement('div');\n",
              "          docLink.innerHTML = docLinkHtml;\n",
              "          element.appendChild(docLink);\n",
              "        }\n",
              "      </script>\n",
              "    </div>\n",
              "  </div>\n",
              "  "
            ]
          },
          "metadata": {},
          "execution_count": 9
        }
      ]
    },
    {
      "cell_type": "code",
      "source": [
        "!pip install matplotlib==3.1.3\n",
        "import matplotlib.pyplot as plt\n",
        "\n",
        "# Plottting 3d map\n",
        "\n",
        "import sys\n",
        "import matplotlib.pyplot as plt\n",
        "from matplotlib.ticker import MaxNLocator\n",
        "from matplotlib import cm\n",
        "from mpl_toolkits.mplot3d import Axes3D\n",
        "from scipy import array, newaxis\n",
        "\n",
        "xdata = data_result['total_con'].values.tolist()\n",
        "ydata = data_result['OM'].values.tolist()\n",
        "zdata = data_result['pH'].values\n",
        "# xdata = np.array(xdata)\n",
        "# ydata = np.array(ydata)\n",
        "# zdata = np.array(zdata)\n",
        "\n",
        "fig = plt.figure(figsize= (8, 5))\n",
        "ax = fig.add_subplot(111, projection='3d')\n",
        "\n",
        "surf = ax.plot_trisurf(xdata, ydata, zdata, cmap=cm.jet, linewidth=0)\n",
        "# surf = ax.plot_trisurf(xdata-xdata.mean(), ydata-ydata.mean(), zdata, cmap=cm.jet, linewidth=0)\n",
        "fig.colorbar(surf)\n",
        "\n",
        "ax.xaxis.set_major_locator(MaxNLocator(10))\n",
        "ax.yaxis.set_major_locator(MaxNLocator(10))\n",
        "ax.zaxis.set_major_locator(MaxNLocator(5))\n",
        "\n",
        "ax.set_xlabel('Zn total concentration')\n",
        "ax.set_ylabel('OM')\n",
        "ax.set_zlabel('pH')\n",
        "\n",
        "fig.tight_layout()\n",
        "plt.show()"
      ],
      "metadata": {
        "colab": {
          "base_uri": "https://localhost:8080/",
          "height": 701
        },
        "id": "AnHr-RI0e335",
        "outputId": "098248a2-ef38-4391-8f9b-cce513e82fb4"
      },
      "execution_count": null,
      "outputs": [
        {
          "output_type": "stream",
          "name": "stdout",
          "text": [
            "Looking in indexes: https://pypi.org/simple, https://us-python.pkg.dev/colab-wheels/public/simple/\n",
            "Collecting matplotlib==3.1.3\n",
            "  Downloading matplotlib-3.1.3-cp38-cp38-manylinux1_x86_64.whl (13.1 MB)\n",
            "\u001b[2K     \u001b[90m━━━━━━━━━━━━━━━━━━━━━━━━━━━━━━━━━━━━━━━━\u001b[0m \u001b[32m13.1/13.1 MB\u001b[0m \u001b[31m52.9 MB/s\u001b[0m eta \u001b[36m0:00:00\u001b[0m\n",
            "\u001b[?25hRequirement already satisfied: cycler>=0.10 in /usr/local/lib/python3.8/dist-packages (from matplotlib==3.1.3) (0.11.0)\n",
            "Requirement already satisfied: python-dateutil>=2.1 in /usr/local/lib/python3.8/dist-packages (from matplotlib==3.1.3) (2.8.2)\n",
            "Requirement already satisfied: numpy>=1.11 in /usr/local/lib/python3.8/dist-packages (from matplotlib==3.1.3) (1.21.6)\n",
            "Requirement already satisfied: kiwisolver>=1.0.1 in /usr/local/lib/python3.8/dist-packages (from matplotlib==3.1.3) (1.4.4)\n",
            "Requirement already satisfied: pyparsing!=2.0.4,!=2.1.2,!=2.1.6,>=2.0.1 in /usr/local/lib/python3.8/dist-packages (from matplotlib==3.1.3) (3.0.9)\n",
            "Requirement already satisfied: six>=1.5 in /usr/local/lib/python3.8/dist-packages (from python-dateutil>=2.1->matplotlib==3.1.3) (1.15.0)\n",
            "Installing collected packages: matplotlib\n",
            "  Attempting uninstall: matplotlib\n",
            "    Found existing installation: matplotlib 3.6.3\n",
            "    Uninstalling matplotlib-3.6.3:\n",
            "      Successfully uninstalled matplotlib-3.6.3\n",
            "\u001b[31mERROR: pip's dependency resolver does not currently take into account all the packages that are installed. This behaviour is the source of the following dependency conflicts.\n",
            "copulas 0.8.0 requires matplotlib<4,>=3.4.0; python_version >= \"3.7\" and python_version < \"3.10\", but you have matplotlib 3.1.3 which is incompatible.\u001b[0m\u001b[31m\n",
            "\u001b[0mSuccessfully installed matplotlib-3.1.3\n"
          ]
        },
        {
          "output_type": "display_data",
          "data": {
            "text/plain": [
              "<Figure size 576x360 with 2 Axes>"
            ],
            "image/png": "[encoded data removed]"
          },
          "metadata": {
            "needs_background": "light"
          }
        }
      ]
    },
    {
      "cell_type": "code",
      "source": [
        "# Plotting correlation heatmap\n",
        "\n",
        "from scipy.stats import pearsonr\n",
        "\n",
        "corr= data_result.corr()\n",
        "\n",
        "\n",
        "#Heat map of pearson correlation\n",
        "\n",
        "plt.figure(figsize=(10,5))\n",
        "sns.heatmap(corr, vmin=-1, vmax=+1)\n",
        "plt.show()"
      ],
      "metadata": {
        "colab": {
          "base_uri": "https://localhost:8080/",
          "height": 325
        },
        "id": "UDUOks1U5mHB",
        "outputId": "09dd61dc-98af-413f-fda9-8b196ee0300b"
      },
      "execution_count": null,
      "outputs": [
        {
          "output_type": "display_data",
          "data": {
            "text/plain": [
              "<Figure size 720x360 with 2 Axes>"
            ],
            "image/png": "[encoded data removed]"
          },
          "metadata": {
            "needs_background": "light"
          }
        }
      ]
    },
    {
      "cell_type": "markdown",
      "source": [
        "# Feature Importance\n",
        "\n",
        "\n",
        "https://machinelearningmastery.com/calculate-feature-importance-with-python/"
      ],
      "metadata": {
        "id": "iKlhfTOBrzpZ"
      }
    },
    {
      "cell_type": "code",
      "source": [
        "X = data_result.iloc[:, range(6, 9)]   #pH, EC and OM\n",
        "Y = data_result.iloc[:, -1]            #target"
      ],
      "metadata": {
        "id": "nHKN8wki48mN"
      },
      "execution_count": null,
      "outputs": []
    },
    {
      "cell_type": "code",
      "source": [
        "# linear regression feature importance\n",
        "\n",
        "from sklearn.ensemble import RandomForestRegressor\n",
        "\n",
        "\n",
        "# define the model\n",
        "model = RandomForestRegressor()\n",
        "\n",
        "# fit the model\n",
        "model.fit(X, Y)\n",
        "\n",
        "# get importance\n",
        "importance = model.feature_importances_\n",
        "\n",
        "features= ('pH', 'EC', 'OM')\n",
        "\n",
        "# summarize feature importance\n",
        "for i,v in enumerate(importance):\n",
        " print('Feature: %0d, Score: %.5f' % (i,v))"
      ],
      "metadata": {
        "colab": {
          "base_uri": "https://localhost:8080/"
        },
        "id": "vWBaehrWNN-E",
        "outputId": "538e5d81-9eb4-40f7-cefb-02f959827dca"
      },
      "execution_count": null,
      "outputs": [
        {
          "output_type": "stream",
          "name": "stdout",
          "text": [
            "Feature: 0, Score: 0.63092\n",
            "Feature: 1, Score: 0.22669\n",
            "Feature: 2, Score: 0.14240\n"
          ]
        }
      ]
    },
    {
      "cell_type": "code",
      "source": [
        "# plot feature importance (Bar Plot)\n",
        "\n",
        "plt.bar(features, importance)\n",
        "plt.show()"
      ],
      "metadata": {
        "colab": {
          "base_uri": "https://localhost:8080/",
          "height": 265
        },
        "id": "UJsFyF4Fe02y",
        "outputId": "1a182e6e-4c6e-494d-e4e8-04fe7ab8c348"
      },
      "execution_count": null,
      "outputs": [
        {
          "output_type": "display_data",
          "data": {
            "text/plain": [
              "<Figure size 432x288 with 1 Axes>"
            ],
            "image/png": "[encoded data removed]"
          },
          "metadata": {
            "needs_background": "light"
          }
        }
      ]
    },
    {
      "cell_type": "markdown",
      "source": [
        "https://plotly.com/python/radar-chart/"
      ],
      "metadata": {
        "id": "m6mmKEFufoye"
      }
    },
    {
      "cell_type": "code",
      "source": [
        "# plot feature importance (Spider Chart )\n",
        "\n",
        "import plotly.express as px\n",
        "\n",
        "df = pd.DataFrame(dict(\n",
        "    r= importance,\n",
        "    theta=['pH', 'CEC', 'OM']))\n",
        "\n",
        "fig = px.line_polar(df, r='r', theta='theta', line_close=True)\n",
        "fig.update_traces(fill='toself')\n",
        "fig.show()"
      ],
      "metadata": {
        "colab": {
          "base_uri": "https://localhost:8080/",
          "height": 542
        },
        "id": "biNxhwRReQWT",
        "outputId": "ec77235a-49ec-4b09-f49f-37ac898f5a7c"
      },
      "execution_count": null,
      "outputs": [
        {
          "output_type": "display_data",
          "data": {
            "text/html": [
              "<html>\n",
              "<head><meta charset=\"utf-8\" /></head>\n",
              "<body>\n",
              "    <div>            <script src=\"https://cdnjs.cloudflare.com/ajax/libs/mathjax/2.7.5/MathJax.js?config=TeX-AMS-MML_SVG\"></script><script type=\"text/javascript\">if (window.MathJax && window.MathJax.Hub && window.MathJax.Hub.Config) {window.MathJax.Hub.Config({SVG: {font: \"STIX-Web\"}});}</script>                <script type=\"text/javascript\">window.PlotlyConfig = {MathJaxConfig: 'local'};</script>\n",
              "        <script src=\"https://cdn.plot.ly/plotly-2.18.0.min.js\"></script>                <div id=\"03b094b5-18a8-4c69-9bb7-89c20d31a973\" class=\"plotly-graph-div\" style=\"height:525px; width:100%;\"></div>            <script type=\"text/javascript\">                                    window.PLOTLYENV=window.PLOTLYENV || {};                                    if (document.getElementById(\"03b094b5-18a8-4c69-9bb7-89c20d31a973\")) {                    Plotly.newPlot(                        \"03b094b5-18a8-4c69-9bb7-89c20d31a973\",                        [{\"hovertemplate\":\"r=%{r}<br>theta=%{theta}<extra></extra>\",\"legendgroup\":\"\",\"line\":{\"color\":\"#636efa\",\"dash\":\"solid\"},\"marker\":{\"symbol\":\"circle\"},\"mode\":\"lines\",\"name\":\"\",\"r\":[0.6309152133479468,0.2266871619941181,0.14239762465793512,0.6309152133479468],\"showlegend\":false,\"subplot\":\"polar\",\"theta\":[\"pH\",\"CEC\",\"OM\",\"pH\"],\"type\":\"scatterpolar\",\"fill\":\"toself\"}],                        {\"template\":{\"data\":{\"histogram2dcontour\":[{\"type\":\"histogram2dcontour\",\"colorbar\":{\"outlinewidth\":0,\"ticks\":\"\"},\"colorscale\":[[0.0,\"#0d0887\"],[0.1111111111111111,\"#46039f\"],[0.2222222222222222,\"#7201a8\"],[0.3333333333333333,\"#9c179e\"],[0.4444444444444444,\"#bd3786\"],[0.5555555555555556,\"#d8576b\"],[0.6666666666666666,\"#ed7953\"],[0.7777777777777778,\"#fb9f3a\"],[0.8888888888888888,\"#fdca26\"],[1.0,\"#f0f921\"]]}],\"choropleth\":[{\"type\":\"choropleth\",\"colorbar\":{\"outlinewidth\":0,\"ticks\":\"\"}}],\"histogram2d\":[{\"type\":\"histogram2d\",\"colorbar\":{\"outlinewidth\":0,\"ticks\":\"\"},\"colorscale\":[[0.0,\"#0d0887\"],[0.1111111111111111,\"#46039f\"],[0.2222222222222222,\"#7201a8\"],[0.3333333333333333,\"#9c179e\"],[0.4444444444444444,\"#bd3786\"],[0.5555555555555556,\"#d8576b\"],[0.6666666666666666,\"#ed7953\"],[0.7777777777777778,\"#fb9f3a\"],[0.8888888888888888,\"#fdca26\"],[1.0,\"#f0f921\"]]}],\"heatmap\":[{\"type\":\"heatmap\",\"colorbar\":{\"outlinewidth\":0,\"ticks\":\"\"},\"colorscale\":[[0.0,\"#0d0887\"],[0.1111111111111111,\"#46039f\"],[0.2222222222222222,\"#7201a8\"],[0.3333333333333333,\"#9c179e\"],[0.4444444444444444,\"#bd3786\"],[0.5555555555555556,\"#d8576b\"],[0.6666666666666666,\"#ed7953\"],[0.7777777777777778,\"#fb9f3a\"],[0.8888888888888888,\"#fdca26\"],[1.0,\"#f0f921\"]]}],\"heatmapgl\":[{\"type\":\"heatmapgl\",\"colorbar\":{\"outlinewidth\":0,\"ticks\":\"\"},\"colorscale\":[[0.0,\"#0d0887\"],[0.1111111111111111,\"#46039f\"],[0.2222222222222222,\"#7201a8\"],[0.3333333333333333,\"#9c179e\"],[0.4444444444444444,\"#bd3786\"],[0.5555555555555556,\"#d8576b\"],[0.6666666666666666,\"#ed7953\"],[0.7777777777777778,\"#fb9f3a\"],[0.8888888888888888,\"#fdca26\"],[1.0,\"#f0f921\"]]}],\"contourcarpet\":[{\"type\":\"contourcarpet\",\"colorbar\":{\"outlinewidth\":0,\"ticks\":\"\"}}],\"contour\":[{\"type\":\"contour\",\"colorbar\":{\"outlinewidth\":0,\"ticks\":\"\"},\"colorscale\":[[0.0,\"#0d0887\"],[0.1111111111111111,\"#46039f\"],[0.2222222222222222,\"#7201a8\"],[0.3333333333333333,\"#9c179e\"],[0.4444444444444444,\"#bd3786\"],[0.5555555555555556,\"#d8576b\"],[0.6666666666666666,\"#ed7953\"],[0.7777777777777778,\"#fb9f3a\"],[0.8888888888888888,\"#fdca26\"],[1.0,\"#f0f921\"]]}],\"surface\":[{\"type\":\"surface\",\"colorbar\":{\"outlinewidth\":0,\"ticks\":\"\"},\"colorscale\":[[0.0,\"#0d0887\"],[0.1111111111111111,\"#46039f\"],[0.2222222222222222,\"#7201a8\"],[0.3333333333333333,\"#9c179e\"],[0.4444444444444444,\"#bd3786\"],[0.5555555555555556,\"#d8576b\"],[0.6666666666666666,\"#ed7953\"],[0.7777777777777778,\"#fb9f3a\"],[0.8888888888888888,\"#fdca26\"],[1.0,\"#f0f921\"]]}],\"mesh3d\":[{\"type\":\"mesh3d\",\"colorbar\":{\"outlinewidth\":0,\"ticks\":\"\"}}],\"scatter\":[{\"fillpattern\":{\"fillmode\":\"overlay\",\"size\":10,\"solidity\":0.2},\"type\":\"scatter\"}],\"parcoords\":[{\"type\":\"parcoords\",\"line\":{\"colorbar\":{\"outlinewidth\":0,\"ticks\":\"\"}}}],\"scatterpolargl\":[{\"type\":\"scatterpolargl\",\"marker\":{\"colorbar\":{\"outlinewidth\":0,\"ticks\":\"\"}}}],\"bar\":[{\"error_x\":{\"color\":\"#2a3f5f\"},\"error_y\":{\"color\":\"#2a3f5f\"},\"marker\":{\"line\":{\"color\":\"#E5ECF6\",\"width\":0.5},\"pattern\":{\"fillmode\":\"overlay\",\"size\":10,\"solidity\":0.2}},\"type\":\"bar\"}],\"scattergeo\":[{\"type\":\"scattergeo\",\"marker\":{\"colorbar\":{\"outlinewidth\":0,\"ticks\":\"\"}}}],\"scatterpolar\":[{\"type\":\"scatterpolar\",\"marker\":{\"colorbar\":{\"outlinewidth\":0,\"ticks\":\"\"}}}],\"histogram\":[{\"marker\":{\"pattern\":{\"fillmode\":\"overlay\",\"size\":10,\"solidity\":0.2}},\"type\":\"histogram\"}],\"scattergl\":[{\"type\":\"scattergl\",\"marker\":{\"colorbar\":{\"outlinewidth\":0,\"ticks\":\"\"}}}],\"scatter3d\":[{\"type\":\"scatter3d\",\"line\":{\"colorbar\":{\"outlinewidth\":0,\"ticks\":\"\"}},\"marker\":{\"colorbar\":{\"outlinewidth\":0,\"ticks\":\"\"}}}],\"scattermapbox\":[{\"type\":\"scattermapbox\",\"marker\":{\"colorbar\":{\"outlinewidth\":0,\"ticks\":\"\"}}}],\"scatterternary\":[{\"type\":\"scatterternary\",\"marker\":{\"colorbar\":{\"outlinewidth\":0,\"ticks\":\"\"}}}],\"scattercarpet\":[{\"type\":\"scattercarpet\",\"marker\":{\"colorbar\":{\"outlinewidth\":0,\"ticks\":\"\"}}}],\"carpet\":[{\"aaxis\":{\"endlinecolor\":\"#2a3f5f\",\"gridcolor\":\"white\",\"linecolor\":\"white\",\"minorgridcolor\":\"white\",\"startlinecolor\":\"#2a3f5f\"},\"baxis\":{\"endlinecolor\":\"#2a3f5f\",\"gridcolor\":\"white\",\"linecolor\":\"white\",\"minorgridcolor\":\"white\",\"startlinecolor\":\"#2a3f5f\"},\"type\":\"carpet\"}],\"table\":[{\"cells\":{\"fill\":{\"color\":\"#EBF0F8\"},\"line\":{\"color\":\"white\"}},\"header\":{\"fill\":{\"color\":\"#C8D4E3\"},\"line\":{\"color\":\"white\"}},\"type\":\"table\"}],\"barpolar\":[{\"marker\":{\"line\":{\"color\":\"#E5ECF6\",\"width\":0.5},\"pattern\":{\"fillmode\":\"overlay\",\"size\":10,\"solidity\":0.2}},\"type\":\"barpolar\"}],\"pie\":[{\"automargin\":true,\"type\":\"pie\"}]},\"layout\":{\"autotypenumbers\":\"strict\",\"colorway\":[\"#636efa\",\"#EF553B\",\"#00cc96\",\"#ab63fa\",\"#FFA15A\",\"#19d3f3\",\"#FF6692\",\"#B6E880\",\"#FF97FF\",\"#FECB52\"],\"font\":{\"color\":\"#2a3f5f\"},\"hovermode\":\"closest\",\"hoverlabel\":{\"align\":\"left\"},\"paper_bgcolor\":\"white\",\"plot_bgcolor\":\"#E5ECF6\",\"polar\":{\"bgcolor\":\"#E5ECF6\",\"angularaxis\":{\"gridcolor\":\"white\",\"linecolor\":\"white\",\"ticks\":\"\"},\"radialaxis\":{\"gridcolor\":\"white\",\"linecolor\":\"white\",\"ticks\":\"\"}},\"ternary\":{\"bgcolor\":\"#E5ECF6\",\"aaxis\":{\"gridcolor\":\"white\",\"linecolor\":\"white\",\"ticks\":\"\"},\"baxis\":{\"gridcolor\":\"white\",\"linecolor\":\"white\",\"ticks\":\"\"},\"caxis\":{\"gridcolor\":\"white\",\"linecolor\":\"white\",\"ticks\":\"\"}},\"coloraxis\":{\"colorbar\":{\"outlinewidth\":0,\"ticks\":\"\"}},\"colorscale\":{\"sequential\":[[0.0,\"#0d0887\"],[0.1111111111111111,\"#46039f\"],[0.2222222222222222,\"#7201a8\"],[0.3333333333333333,\"#9c179e\"],[0.4444444444444444,\"#bd3786\"],[0.5555555555555556,\"#d8576b\"],[0.6666666666666666,\"#ed7953\"],[0.7777777777777778,\"#fb9f3a\"],[0.8888888888888888,\"#fdca26\"],[1.0,\"#f0f921\"]],\"sequentialminus\":[[0.0,\"#0d0887\"],[0.1111111111111111,\"#46039f\"],[0.2222222222222222,\"#7201a8\"],[0.3333333333333333,\"#9c179e\"],[0.4444444444444444,\"#bd3786\"],[0.5555555555555556,\"#d8576b\"],[0.6666666666666666,\"#ed7953\"],[0.7777777777777778,\"#fb9f3a\"],[0.8888888888888888,\"#fdca26\"],[1.0,\"#f0f921\"]],\"diverging\":[[0,\"#8e0152\"],[0.1,\"#c51b7d\"],[0.2,\"#de77ae\"],[0.3,\"#f1b6da\"],[0.4,\"#fde0ef\"],[0.5,\"#f7f7f7\"],[0.6,\"#e6f5d0\"],[0.7,\"#b8e186\"],[0.8,\"#7fbc41\"],[0.9,\"#4d9221\"],[1,\"#276419\"]]},\"xaxis\":{\"gridcolor\":\"white\",\"linecolor\":\"white\",\"ticks\":\"\",\"title\":{\"standoff\":15},\"zerolinecolor\":\"white\",\"automargin\":true,\"zerolinewidth\":2},\"yaxis\":{\"gridcolor\":\"white\",\"linecolor\":\"white\",\"ticks\":\"\",\"title\":{\"standoff\":15},\"zerolinecolor\":\"white\",\"automargin\":true,\"zerolinewidth\":2},\"scene\":{\"xaxis\":{\"backgroundcolor\":\"#E5ECF6\",\"gridcolor\":\"white\",\"linecolor\":\"white\",\"showbackground\":true,\"ticks\":\"\",\"zerolinecolor\":\"white\",\"gridwidth\":2},\"yaxis\":{\"backgroundcolor\":\"#E5ECF6\",\"gridcolor\":\"white\",\"linecolor\":\"white\",\"showbackground\":true,\"ticks\":\"\",\"zerolinecolor\":\"white\",\"gridwidth\":2},\"zaxis\":{\"backgroundcolor\":\"#E5ECF6\",\"gridcolor\":\"white\",\"linecolor\":\"white\",\"showbackground\":true,\"ticks\":\"\",\"zerolinecolor\":\"white\",\"gridwidth\":2}},\"shapedefaults\":{\"line\":{\"color\":\"#2a3f5f\"}},\"annotationdefaults\":{\"arrowcolor\":\"#2a3f5f\",\"arrowhead\":0,\"arrowwidth\":1},\"geo\":{\"bgcolor\":\"white\",\"landcolor\":\"#E5ECF6\",\"subunitcolor\":\"white\",\"showland\":true,\"showlakes\":true,\"lakecolor\":\"white\"},\"title\":{\"x\":0.05},\"mapbox\":{\"style\":\"light\"}}},\"polar\":{\"domain\":{\"x\":[0.0,1.0],\"y\":[0.0,1.0]},\"angularaxis\":{\"direction\":\"clockwise\",\"rotation\":90}},\"legend\":{\"tracegroupgap\":0},\"margin\":{\"t\":60}},                        {\"responsive\": true}                    ).then(function(){\n",
              "                            \n",
              "var gd = document.getElementById('03b094b5-18a8-4c69-9bb7-89c20d31a973');\n",
              "var x = new MutationObserver(function (mutations, observer) {{\n",
              "        var display = window.getComputedStyle(gd).display;\n",
              "        if (!display || display === 'none') {{\n",
              "            console.log([gd, 'removed!']);\n",
              "            Plotly.purge(gd);\n",
              "            observer.disconnect();\n",
              "        }}\n",
              "}});\n",
              "\n",
              "// Listen for the removal of the full notebook cells\n",
              "var notebookContainer = gd.closest('#notebook-container');\n",
              "if (notebookContainer) {{\n",
              "    x.observe(notebookContainer, {childList: true});\n",
              "}}\n",
              "\n",
              "// Listen for the clearing of the current output cell\n",
              "var outputEl = gd.closest('.output');\n",
              "if (outputEl) {{\n",
              "    x.observe(outputEl, {childList: true});\n",
              "}}\n",
              "\n",
              "                        })                };                            </script>        </div>\n",
              "</body>\n",
              "</html>"
            ]
          },
          "metadata": {}
        }
      ]
    },
    {
      "cell_type": "markdown",
      "source": [
        "# Let's Train the augmented data"
      ],
      "metadata": {
        "id": "nqyAUpz4OoKO"
      }
    },
    {
      "cell_type": "code",
      "source": [
        "# determining data and target\n",
        "\n",
        "x = data_result.iloc[:, range(0, 9)]      #GaussianCopula_result data\n",
        "y = data_result.iloc[:, -1]               #GaussianCopula_result target"
      ],
      "metadata": {
        "id": "1t5YUfdG5lvj"
      },
      "execution_count": null,
      "outputs": []
    },
    {
      "cell_type": "code",
      "source": [
        "from sklearn.model_selection import train_test_split\n",
        "\n",
        "x_train, x_test, y_train, y_test= train_test_split(x, y, test_size= 0.3, random_state=42)"
      ],
      "metadata": {
        "id": "UEsvo4mKr56X"
      },
      "execution_count": null,
      "outputs": []
    },
    {
      "cell_type": "code",
      "source": [
        "# Scaling data\n",
        "\n",
        "from sklearn.preprocessing import StandardScaler\n",
        "\n",
        "sc=StandardScaler()\n",
        "\n",
        "scaler = sc.fit(x_train)\n",
        "x_train = scaler.transform(x_train)\n",
        "x_test = scaler.transform(x_test)"
      ],
      "metadata": {
        "id": "vFw1J-kosCKP"
      },
      "execution_count": null,
      "outputs": []
    },
    {
      "cell_type": "code",
      "source": [
        "import warnings\n",
        "warnings.filterwarnings('ignore')"
      ],
      "metadata": {
        "id": "cevldixaQWEk"
      },
      "execution_count": null,
      "outputs": []
    },
    {
      "cell_type": "markdown",
      "source": [
        "**1_ Decission Tree**"
      ],
      "metadata": {
        "id": "-rQ8qWP3sI8d"
      }
    },
    {
      "cell_type": "code",
      "source": [
        "from sklearn.tree import DecisionTreeRegressor\n",
        "\n",
        "dtc= DecisionTreeRegressor(random_state= 13, criterion= 'friedman_mse')\n",
        "dtc.fit(x_train, y_train)"
      ],
      "metadata": {
        "id": "RxVD4oeesK1o",
        "colab": {
          "base_uri": "https://localhost:8080/"
        },
        "outputId": "28789f59-7180-475a-deb2-857c8184d910"
      },
      "execution_count": null,
      "outputs": [
        {
          "output_type": "execute_result",
          "data": {
            "text/plain": [
              "DecisionTreeRegressor(criterion='friedman_mse', random_state=13)"
            ]
          },
          "metadata": {},
          "execution_count": 20
        }
      ]
    },
    {
      "cell_type": "code",
      "source": [
        "# # find optimal criterion and random_state with grid search\n",
        "\n",
        "# # criterion= ['squared_error', 'absolute_error', 'friedman_mse', 'poisson']\n",
        "# random_state= range(0, 43)\n",
        "# param_grid = dict(random_state= random_state, criterion= criterion)\n",
        "\n",
        "# grid = GridSearchCV(estimator=dtc, param_grid=param_grid, scoring='r2', verbose=1, n_jobs=-1)\n",
        "# grid_result = grid.fit(x_train, y_train)\n",
        "\n",
        "# print('Best Score: ', grid_result.best_score_)\n",
        "# print('Best Params: ', grid_result.best_params_)"
      ],
      "metadata": {
        "id": "8VfhrJj7wEXc"
      },
      "execution_count": null,
      "outputs": []
    },
    {
      "cell_type": "code",
      "source": [
        "#Predicting y for x_samp_test\n",
        "\n",
        "dtc_predict= dtc.predict(x_test)\n",
        "dtc_predict"
      ],
      "metadata": {
        "colab": {
          "base_uri": "https://localhost:8080/"
        },
        "id": "KykKRvznw44J",
        "outputId": "25a62468-1af4-4c78-931a-142e2cbe33ca"
      },
      "execution_count": null,
      "outputs": [
        {
          "output_type": "execute_result",
          "data": {
            "text/plain": [
              "array([16.16, 16.16,  5.78, 12.25,  4.  ,  9.52, 15.77,  8.43,  2.56,\n",
              "       17.22,  5.87, 11.91, 11.46, 16.39,  5.3 , 14.78, 16.16, 15.77,\n",
              "       16.05,  8.81, 17.17, 16.09,  5.3 , 10.52,  8.81, 17.17, 11.91,\n",
              "       14.12,  4.  , 14.11])"
            ]
          },
          "metadata": {},
          "execution_count": 22
        }
      ]
    },
    {
      "cell_type": "code",
      "source": [
        "#calculating the scores\n",
        "\n",
        "from sklearn import metrics\n",
        "\n",
        "expected_y  = y_test\n",
        "predicted_y = dtc.predict(x_test)\n",
        "\n",
        "MSE= metrics.mean_squared_error(expected_y, predicted_y)\n",
        "MAE= metrics.mean_absolute_error(expected_y, predicted_y)\n",
        "r2= metrics.r2_score(expected_y, predicted_y)\n",
        "EVS= metrics.explained_variance_score(expected_y, predicted_y)\n",
        "MPL= metrics.mean_pinball_loss(expected_y, predicted_y)\n",
        "# d2p= metrics.d2_pinball_score(expected_y, predicted_y)\n",
        "# d2a= metrics.d2_absolute_error_score(expected_y, predicted_y)\n",
        "\n",
        "print ('score: ', dtc.score(x_test, y_test))\n",
        "print('MSE: ', MSE,\"\\n\",'MAE: ', MAE,\"\\n\",'r2: ', r2,\"\\n\",'EVS: ', EVS,\"\\n\",'MPL: ', MPL)"
      ],
      "metadata": {
        "id": "uErAng52PYT1",
        "colab": {
          "base_uri": "https://localhost:8080/"
        },
        "outputId": "0d3aeaef-888a-46a9-c3c9-7005b8247fda"
      },
      "execution_count": null,
      "outputs": [
        {
          "output_type": "stream",
          "name": "stdout",
          "text": [
            "score:  0.9281327360639366\n",
            "MSE:  1.6825300000000005 \n",
            " MAE:  1.0263333333333333 \n",
            " r2:  0.9281327360639366 \n",
            " EVS:  0.9281830861520048 \n",
            " MPL:  0.5131666666666667\n"
          ]
        }
      ]
    },
    {
      "cell_type": "code",
      "source": [
        "# Drawing metrics plot\n",
        "\n",
        "array = ('MSE', 'MAE', 'r2', 'EVS', 'MPL')\n",
        "count= (MSE ,MAE, r2, EVS, MPL)\n",
        "plt.bar(array, count)\n",
        "plt.xlabel('Metrics')\n",
        "plt.show() "
      ],
      "metadata": {
        "id": "a6prxgP1PfZH",
        "colab": {
          "base_uri": "https://localhost:8080/",
          "height": 279
        },
        "outputId": "80311bef-1a51-459a-931a-c52d335b9ad4"
      },
      "execution_count": null,
      "outputs": [
        {
          "output_type": "display_data",
          "data": {
            "text/plain": [
              "<Figure size 432x288 with 1 Axes>"
            ],
            "image/png": "[encoded data removed]"
          },
          "metadata": {
            "needs_background": "light"
          }
        }
      ]
    },
    {
      "cell_type": "markdown",
      "source": [
        "**K_fold Cross Validation**\n",
        "\n",
        "https://scikit-learn.org/stable/modules/cross_validation.html"
      ],
      "metadata": {
        "id": "kA3iUMWlNGsh"
      }
    },
    {
      "cell_type": "code",
      "source": [
        "from sklearn.model_selection import cross_val_score\n",
        "from sklearn.model_selection import cross_val_predict\n",
        "\n",
        "# Getting score of each fold\n",
        "dtc_cross = DecisionTreeRegressor(random_state= 13, criterion= 'friedman_mse')\n",
        "scores = cross_val_score(dtc_cross, x, y, cv =5)\n",
        "\n",
        "print(\"Cross Validation Scores: \", scores)\n",
        "print(\"Average CV Score: \", scores.mean())\n",
        "print(\"Number of CV Scores used in Average: \", len(scores))\n",
        "\n",
        "# Predicting\n",
        "dtc_pred = cross_val_predict(dtc_cross, x, y, cv=5)\n",
        "\n",
        "# Plotting measured vs preducted values\n",
        "fig,ax = plt.subplots()\n",
        "ax.scatter(y, dtc_pred)\n",
        "ax.plot([y.min(), y.max()], [y.min(), y.max()], 'k--', lw=2)\n",
        "ax.set_xlabel('Measured')\n",
        "ax.set_ylabel('Predicted')\n",
        "ax.set_title('measured vs preducted values')\n",
        "fig.show()"
      ],
      "metadata": {
        "colab": {
          "base_uri": "https://localhost:8080/",
          "height": 347
        },
        "id": "Kbn8hFSHL2rU",
        "outputId": "70caca94-ffd9-46be-b9fe-0d777259673a"
      },
      "execution_count": 71,
      "outputs": [
        {
          "output_type": "stream",
          "name": "stdout",
          "text": [
            "Cross Validation Scores:  [0.97417929 0.87497141 0.78191596 0.93258939 0.9577662 ]\n",
            "Average CV Score:  0.9042844504671332\n",
            "Number of CV Scores used in Average:  5\n"
          ]
        },
        {
          "output_type": "display_data",
          "data": {
            "text/plain": [
              "<Figure size 432x288 with 1 Axes>"
            ],
            "image/png": "[encoded data removed]"
          },
          "metadata": {
            "needs_background": "light"
          }
        }
      ]
    },
    {
      "cell_type": "markdown",
      "source": [
        "**2_ Gradient Boosting**"
      ],
      "metadata": {
        "id": "9SrwBaVRuO3b"
      }
    },
    {
      "cell_type": "code",
      "source": [
        "from sklearn import ensemble\n",
        "\n",
        "gbr = ensemble.GradientBoostingRegressor(n_estimators= 90, criterion= 'squared_error')\n",
        "gbr.fit(x_train, y_train)"
      ],
      "metadata": {
        "id": "vfPwXOgkQTMc",
        "colab": {
          "base_uri": "https://localhost:8080/"
        },
        "outputId": "2fb25c09-3488-4012-c7ab-c83a55b6d369"
      },
      "execution_count": null,
      "outputs": [
        {
          "output_type": "execute_result",
          "data": {
            "text/plain": [
              "GradientBoostingRegressor(criterion='squared_error', n_estimators=90)"
            ]
          },
          "metadata": {},
          "execution_count": 25
        }
      ]
    },
    {
      "cell_type": "code",
      "source": [
        "# # find optimal n_estimators and criterion  with grid search\n",
        "\n",
        "# criterion= ['squared_error', 'absolute_error', 'friedman_mse', 'poisson']\n",
        "# n_estimators = [10, 20, 30, 40, 50 ,60, 70, 80, 90 ,100]\n",
        "# param_grid = dict(criterion= criterion, n_estimators= n_estimators)\n",
        "\n",
        "# grid = GridSearchCV(estimator=gbr, param_grid=param_grid, scoring='r2', verbose=1, n_jobs=-1)\n",
        "# grid_result = grid.fit(x_train, y_train)\n",
        "\n",
        "# print('Best Score: ', grid_result.best_score_)\n",
        "# print('Best Params: ', grid_result.best_params_)"
      ],
      "metadata": {
        "id": "-1iB29xYvdNi"
      },
      "execution_count": null,
      "outputs": []
    },
    {
      "cell_type": "code",
      "source": [
        "#Predicting y for x_samp_test\n",
        "\n",
        "gbr_predict= gbr.predict(x_test)\n",
        "gbr_predict"
      ],
      "metadata": {
        "colab": {
          "base_uri": "https://localhost:8080/"
        },
        "id": "TCZTktybvCt3",
        "outputId": "9e2baf1d-893b-4e31-f5a2-7c6c38dd851e"
      },
      "execution_count": null,
      "outputs": [
        {
          "output_type": "execute_result",
          "data": {
            "text/plain": [
              "array([16.31663188, 15.5810519 ,  4.2114441 , 10.40167018,  3.26518837,\n",
              "       10.61228963, 16.76801121,  9.07836086,  2.86372258, 16.98519492,\n",
              "        4.8040596 , 11.98445253, 10.96165369, 16.47822354,  6.01718516,\n",
              "       15.19895961, 16.26496494, 16.49148651, 16.46714089,  8.42812726,\n",
              "       16.71747785, 15.39515065,  8.50648567, 11.87761126,  7.16961037,\n",
              "       16.96330081, 10.08746254, 14.60347123,  3.38445017, 14.72267234])"
            ]
          },
          "metadata": {},
          "execution_count": 27
        }
      ]
    },
    {
      "cell_type": "code",
      "source": [
        "#calculating the scores\n",
        "\n",
        "from sklearn import metrics\n",
        "\n",
        "expected_y  = y_test\n",
        "predicted_y = gbr.predict(x_test)\n",
        "\n",
        "MSE= metrics.mean_squared_error(expected_y, predicted_y)\n",
        "MAE= metrics.mean_absolute_error(expected_y, predicted_y)\n",
        "r2= metrics.r2_score(expected_y, predicted_y)\n",
        "EVS= metrics.explained_variance_score(expected_y, predicted_y)\n",
        "MPL= metrics.mean_pinball_loss(expected_y, predicted_y)\n",
        "# d2p= metrics.d2_pinball_score(expected_y, predicted_y)\n",
        "# d2a= metrics.d2_absolute_error_score(expected_y, predicted_y)\n",
        "\n",
        "print ('score: ', gbr.score(x_test, y_test))\n",
        "print('MSE: ', MSE,\"\\n\",'MAE: ', MAE,\"\\n\",'r2: ', r2,\"\\n\",'EVS: ', EVS,\"\\n\",'MPL: ', MPL)"
      ],
      "metadata": {
        "id": "m7I4VHTnuGpO",
        "colab": {
          "base_uri": "https://localhost:8080/"
        },
        "outputId": "daacff67-7f35-451a-c7e0-8749e89b129f"
      },
      "execution_count": null,
      "outputs": [
        {
          "output_type": "stream",
          "name": "stdout",
          "text": [
            "score:  0.9667266942338986\n",
            "MSE:  0.778982419595717 \n",
            " MAE:  0.6966808685580462 \n",
            " r2:  0.9667266942338986 \n",
            " EVS:  0.9667270576994682 \n",
            " MPL:  0.3483404342790231\n"
          ]
        }
      ]
    },
    {
      "cell_type": "code",
      "source": [
        "# Drawing metrics plot\n",
        "\n",
        "array = ('MSE', 'MAE', 'r2', 'EVS', 'MPL')\n",
        "count= (MSE ,MAE, r2, EVS, MPL)\n",
        "plt.bar(array, count)\n",
        "plt.xlabel('Metrics')\n",
        "plt.show() "
      ],
      "metadata": {
        "id": "6Db9jeIsRRdN",
        "colab": {
          "base_uri": "https://localhost:8080/",
          "height": 280
        },
        "outputId": "9a860cf8-4cd4-4d1c-b9ad-1730e1f8e03f"
      },
      "execution_count": null,
      "outputs": [
        {
          "output_type": "display_data",
          "data": {
            "text/plain": [
              "<Figure size 432x288 with 1 Axes>"
            ],
            "image/png": "[encoded data removed]"
          },
          "metadata": {
            "needs_background": "light"
          }
        }
      ]
    },
    {
      "cell_type": "markdown",
      "source": [
        "**K_fold Cross Validation**\n",
        "\n",
        "https://scikit-learn.org/stable/modules/cross_validation.html"
      ],
      "metadata": {
        "id": "TUbCVLQnPDwd"
      }
    },
    {
      "cell_type": "code",
      "source": [
        "from sklearn.model_selection import cross_val_score\n",
        "from sklearn.model_selection import cross_val_predict\n",
        "\n",
        "# Getting score of each fold\n",
        "gbr_cross = ensemble.GradientBoostingRegressor(n_estimators= 90, criterion= 'squared_error')\n",
        "scores = cross_val_score(gbr_cross, x, y, cv =5)\n",
        "\n",
        "print(\"Cross Validation Scores: \", scores)\n",
        "print(\"Average CV Score: \", scores.mean())\n",
        "print(\"Number of CV Scores used in Average: \", len(scores))\n",
        "\n",
        "# Predicting\n",
        "gbr_pred = cross_val_predict(gbr_cross, x, y, cv=5)\n",
        "\n",
        "# Plotting measured vs preducted values\n",
        "fig,ax = plt.subplots()\n",
        "ax.scatter(y, dtc_pred)\n",
        "ax.plot([y.min(), y.max()], [y.min(), y.max()], 'k--', lw=2)\n",
        "ax.set_xlabel('Measured')\n",
        "ax.set_ylabel('Predicted')\n",
        "ax.set_title('measured vs preducted values')\n",
        "fig.show()"
      ],
      "metadata": {
        "colab": {
          "base_uri": "https://localhost:8080/",
          "height": 347
        },
        "id": "2_wrf_g-ONXG",
        "outputId": "5832f46a-4c35-4225-dff3-5e13676e82ad"
      },
      "execution_count": 73,
      "outputs": [
        {
          "output_type": "stream",
          "name": "stdout",
          "text": [
            "Cross Validation Scores:  [0.97226383 0.95155987 0.95496142 0.97938738 0.98391218]\n",
            "Average CV Score:  0.9684169353060732\n",
            "Number of CV Scores used in Average:  5\n"
          ]
        },
        {
          "output_type": "display_data",
          "data": {
            "text/plain": [
              "<Figure size 432x288 with 1 Axes>"
            ],
            "image/png": "[encoded data removed]"
          },
          "metadata": {
            "needs_background": "light"
          }
        }
      ]
    },
    {
      "cell_type": "markdown",
      "source": [
        "**3_ Multylayer perception (MLP)**"
      ],
      "metadata": {
        "id": "c_leDhpauSkd"
      }
    },
    {
      "cell_type": "code",
      "source": [
        "from sklearn.neural_network import MLPRegressor"
      ],
      "metadata": {
        "id": "N9nqb0tluUqm"
      },
      "execution_count": null,
      "outputs": []
    },
    {
      "cell_type": "markdown",
      "source": [
        "**How to choose number of hidden layers:**\n",
        "\n",
        "Nh=Ns(α∗(Ni+No))\n",
        "\n",
        "\n",
        "α= between 2 _ 10\n",
        "\n",
        "\n",
        "number of hidden layer= 100/(10*(9+1))"
      ],
      "metadata": {
        "id": "vH_0FF8nQCGE"
      }
    },
    {
      "cell_type": "code",
      "source": [
        "# Fitting the training data to the network\n",
        "\n",
        "mlp= MLPRegressor(hidden_layer_sizes=(9,1,1), max_iter=10000 ,activation = 'identity', solver='sgd', batch_size= 100, random_state=12)\n",
        "mlp.fit(x_train, y_train)"
      ],
      "metadata": {
        "id": "jaLG9aDvuZGd",
        "colab": {
          "base_uri": "https://localhost:8080/"
        },
        "outputId": "ff4ffe88-5218-4255-846b-efc4bf4ff8a4"
      },
      "execution_count": 138,
      "outputs": [
        {
          "output_type": "execute_result",
          "data": {
            "text/plain": [
              "MLPRegressor(activation='identity', batch_size=100,\n",
              "             hidden_layer_sizes=(9, 1, 1), max_iter=10000, random_state=12,\n",
              "             solver='sgd')"
            ]
          },
          "metadata": {},
          "execution_count": 138
        }
      ]
    },
    {
      "cell_type": "code",
      "source": [
        "# # find optimal n_estimators, criterion and random_state with grid search\n",
        "\n",
        "# activation= ['identity', 'logistic', 'tanh', 'relu']\n",
        "# solver= ['lbfgs', 'sgd', 'adam']\n",
        "# random_state= range(0, 43)\n",
        "# max_iter= [100, 400, 600, 800, 1000]\n",
        "# param_grid = dict(activation= activation, solver= solver, emax_iter= max_iter\n",
        "# param_grid = dict(random_state= random_state)\n",
        "\n",
        "# grid = GridSearchCV(estimator=mlp, param_grid=param_grid, scoring='r2', verbose=1, n_jobs=-1)\n",
        "# grid_result = grid.fit(x_train, y_train)\n",
        "\n",
        "# print('Best Score: ', grid_result.best_score_)\n",
        "# print('Best Params: ', grid_result.best_params_)"
      ],
      "metadata": {
        "id": "2VcjqzpCVJjR"
      },
      "execution_count": null,
      "outputs": []
    },
    {
      "cell_type": "code",
      "source": [
        "#Predicting y for x_samp_test\n",
        "\n",
        "mlp_predict = mlp.predict(x_test)\n",
        "mlp_predict "
      ],
      "metadata": {
        "id": "ZK16SUsN6-Wh",
        "colab": {
          "base_uri": "https://localhost:8080/"
        },
        "outputId": "25936643-301b-4a06-bc15-0f940a2bd85e"
      },
      "execution_count": null,
      "outputs": [
        {
          "output_type": "execute_result",
          "data": {
            "text/plain": [
              "array([15.26730286, 13.75062763,  4.68289598, 10.05325162,  2.2723486 ,\n",
              "       10.28371157, 16.73334623,  8.3747427 ,  2.75079618, 18.96422955,\n",
              "        5.55219601, 11.02469654, 11.48808992, 16.38597788,  6.50196097,\n",
              "       15.13616368, 16.00533374, 16.69215644, 16.65255953,  9.345877  ,\n",
              "       16.35658739, 14.06102216,  7.52229267, 13.388284  ,  7.05725704,\n",
              "       17.13455227, 10.01806576, 14.91494339,  3.90244148, 16.61227827])"
            ]
          },
          "metadata": {},
          "execution_count": 33
        }
      ]
    },
    {
      "cell_type": "code",
      "source": [
        "#calculating the scores\n",
        "\n",
        "from sklearn import metrics\n",
        "\n",
        "expected_y  = y_test\n",
        "predicted_y = mlp.predict(x_test)\n",
        "\n",
        "MSE= metrics.mean_squared_error(expected_y, predicted_y)\n",
        "MAE= metrics.mean_absolute_error(expected_y, predicted_y)\n",
        "r2= metrics.r2_score(expected_y, predicted_y)\n",
        "EVS= metrics.explained_variance_score(expected_y, predicted_y)\n",
        "MPL= metrics.mean_pinball_loss(expected_y, predicted_y)\n",
        "# d2p= metrics.d2_pinball_score(expected_y, predicted_y)\n",
        "# d2a= metrics.d2_absolute_error_score(expected_y, predicted_y)\n",
        "\n",
        "print ('score: ', mlp.score(x_test, y_test))\n",
        "print('MSE: ', MSE,\"\\n\",'MAE: ', MAE,\"\\n\",'r2: ', r2,\"\\n\",'EVS: ', EVS,\"\\n\",'MPL: ', MPL)"
      ],
      "metadata": {
        "id": "eYYcECy28SY9",
        "colab": {
          "base_uri": "https://localhost:8080/"
        },
        "outputId": "9cc36191-e21a-4112-804f-b45502ab7c05"
      },
      "execution_count": 143,
      "outputs": [
        {
          "output_type": "stream",
          "name": "stdout",
          "text": [
            "score:  0.9890266888714753\n",
            "MSE:  0.31571992214221006 \n",
            " MAE:  0.3747049907479417 \n",
            " r2:  0.9890266888714753 \n",
            " EVS:  0.9890330460152014 \n",
            " MPL:  0.18735249537397086\n"
          ]
        }
      ]
    },
    {
      "cell_type": "code",
      "source": [
        "# Drawing metrics plot\n",
        "\n",
        "array = ('MSE', 'MAE', 'r2', 'EVS', 'MPL')\n",
        "count= (MSE ,MAE, r2, EVS, MPL)\n",
        "plt.bar(array, count)\n",
        "plt.xlabel('Metrics')\n",
        "plt.show() "
      ],
      "metadata": {
        "id": "B8caqa6fKj6I",
        "colab": {
          "base_uri": "https://localhost:8080/",
          "height": 279
        },
        "outputId": "43cfa9c7-7dc9-465e-fd1b-e2cf1446fb39"
      },
      "execution_count": null,
      "outputs": [
        {
          "output_type": "display_data",
          "data": {
            "text/plain": [
              "<Figure size 432x288 with 1 Axes>"
            ],
            "image/png": "[encoded data removed]"
          },
          "metadata": {
            "needs_background": "light"
          }
        }
      ]
    },
    {
      "cell_type": "markdown",
      "source": [
        "**K_fold Cross Validation**\n",
        "\n",
        "https://scikit-learn.org/stable/modules/cross_validation.html"
      ],
      "metadata": {
        "id": "rf2WbIk6PJ8m"
      }
    },
    {
      "cell_type": "code",
      "source": [
        "from sklearn.model_selection import cross_val_score\n",
        "from sklearn.model_selection import cross_val_predict\n",
        "\n",
        "# Getting score of each fold\n",
        "mlp_cross = ensemble.GradientBoostingRegressor(n_estimators= 90, criterion= 'squared_error')\n",
        "scores = cross_val_score(mlp_cross, x, y, cv =5)\n",
        "\n",
        "print(\"Cross Validation Scores: \", scores)\n",
        "print(\"Average CV Score: \", scores.mean())\n",
        "print(\"Number of CV Scores used in Average: \", len(scores))\n",
        "\n",
        "# Predicting\n",
        "mlp_pred = cross_val_predict(mlp_cross, x, y, cv=5)\n",
        "\n",
        "# Plotting measured vs preducted values\n",
        "fig,ax = plt.subplots()\n",
        "ax.scatter(y, mlp_pred)\n",
        "ax.plot([y.min(), y.max()], [y.min(), y.max()], 'k--', lw=2)\n",
        "ax.set_xlabel('Measured')\n",
        "ax.set_ylabel('Predicted')\n",
        "ax.set_title('measured vs preducted values')\n",
        "fig.show()"
      ],
      "metadata": {
        "colab": {
          "base_uri": "https://localhost:8080/",
          "height": 347
        },
        "id": "-_tg7F9WPK6O",
        "outputId": "74c6c74f-bc31-4a89-a744-2ffb502b45d5"
      },
      "execution_count": 85,
      "outputs": [
        {
          "output_type": "stream",
          "name": "stdout",
          "text": [
            "Cross Validation Scores:  [0.9742811  0.95162581 0.95595938 0.97730756 0.98379364]\n",
            "Average CV Score:  0.9685934985210001\n",
            "Number of CV Scores used in Average:  5\n"
          ]
        },
        {
          "output_type": "display_data",
          "data": {
            "text/plain": [
              "<Figure size 432x288 with 1 Axes>"
            ],
            "image/png": "[encoded data removed]"
          },
          "metadata": {
            "needs_background": "light"
          }
        }
      ]
    },
    {
      "cell_type": "markdown",
      "source": [
        "**4_ Support vector machine(SVM)**"
      ],
      "metadata": {
        "id": "_TEBrMFd24nT"
      }
    },
    {
      "cell_type": "code",
      "source": [
        "from sklearn import svm"
      ],
      "metadata": {
        "id": "ZtmgSv2e236T"
      },
      "execution_count": 80,
      "outputs": []
    },
    {
      "cell_type": "code",
      "source": [
        "# Fitting the training data\n",
        "\n",
        "svm = svm.SVR()\n",
        "svm.fit (x_train, y_train)"
      ],
      "metadata": {
        "id": "0lB48dU9270h",
        "colab": {
          "base_uri": "https://localhost:8080/"
        },
        "outputId": "b00cedd2-f42c-4522-88b1-593a68f747c5"
      },
      "execution_count": 81,
      "outputs": [
        {
          "output_type": "execute_result",
          "data": {
            "text/plain": [
              "SVR()"
            ]
          },
          "metadata": {},
          "execution_count": 81
        }
      ]
    },
    {
      "cell_type": "code",
      "source": [
        "#Predicting y for x_samp_test\n",
        "\n",
        "svm_predict= svm.predict(x_test)\n",
        "svm_predict"
      ],
      "metadata": {
        "id": "KOtoiZk04Vfm",
        "colab": {
          "base_uri": "https://localhost:8080/"
        },
        "outputId": "59adf6d9-e1af-408e-c553-c6ed2bc0b8a0"
      },
      "execution_count": 82,
      "outputs": [
        {
          "output_type": "execute_result",
          "data": {
            "text/plain": [
              "array([14.51109387, 14.66727103,  5.11419588,  9.5670402 ,  5.73224946,\n",
              "       11.54720642, 14.6310304 ,  9.44305642,  6.55447925, 15.20816896,\n",
              "        7.19769307, 11.08475422, 12.21298173, 14.43947156,  6.42938566,\n",
              "       12.79057174, 14.57509443, 16.32128293, 15.22470505,  9.28043488,\n",
              "       15.58189667, 14.62746065,  8.73257639, 12.57867945,  7.80381812,\n",
              "       16.78925678,  9.46825672, 13.85398549,  5.93092864, 14.37589012])"
            ]
          },
          "metadata": {},
          "execution_count": 82
        }
      ]
    },
    {
      "cell_type": "code",
      "source": [
        "#calculating the scores\n",
        "\n",
        "from sklearn import metrics\n",
        "\n",
        "expected_y  = y_test\n",
        "predicted_y = svm.predict(x_test)\n",
        "\n",
        "MSE= metrics.mean_squared_error(expected_y, predicted_y)\n",
        "MAE= metrics.mean_absolute_error(expected_y, predicted_y)\n",
        "r2= metrics.r2_score(expected_y, predicted_y)\n",
        "EVS= metrics.explained_variance_score(expected_y, predicted_y)\n",
        "MPL= metrics.mean_pinball_loss(expected_y, predicted_y)\n",
        "# d2p= metrics.d2_pinball_score(expected_y, predicted_y)\n",
        "# d2a= metrics.d2_absolute_error_score(expected_y, predicted_y)\n",
        "\n",
        "print ('score: ', svm.score(x_test, y_test))\n",
        "print('MSE: ', MSE,\"\\n\",'MAE: ', MAE,\"\\n\",'r2: ', r2,\"\\n\",'EVS: ', EVS,\"\\n\",'MPL: ', MPL)"
      ],
      "metadata": {
        "id": "30uzm2Z7La3d",
        "colab": {
          "base_uri": "https://localhost:8080/"
        },
        "outputId": "f1990ebd-82e3-486b-bee8-c82c354fc237"
      },
      "execution_count": 83,
      "outputs": [
        {
          "output_type": "stream",
          "name": "stdout",
          "text": [
            "score:  0.8714137461929577\n",
            "MSE:  3.0104141686879653 \n",
            " MAE:  1.3768330753972067 \n",
            " r2:  0.8714137461929577 \n",
            " EVS:  0.8716529625666272 \n",
            " MPL:  0.6884165376986033\n"
          ]
        }
      ]
    },
    {
      "cell_type": "code",
      "source": [
        "# Drawing metrics plot\n",
        "\n",
        "array = ('MSE', 'MAE', 'r2', 'EVS', 'MPL')\n",
        "count= (MSE ,MAE, r2, EVS, MPL)\n",
        "plt.bar(array, count)\n",
        "plt.xlabel('Metrics')\n",
        "plt.show() "
      ],
      "metadata": {
        "id": "u9i2P_nxLkyf",
        "colab": {
          "base_uri": "https://localhost:8080/",
          "height": 279
        },
        "outputId": "4dd2502e-15e4-4b61-81cd-eaaca225e65c"
      },
      "execution_count": 84,
      "outputs": [
        {
          "output_type": "display_data",
          "data": {
            "text/plain": [
              "<Figure size 432x288 with 1 Axes>"
            ],
            "image/png": "[encoded data removed]"
          },
          "metadata": {
            "needs_background": "light"
          }
        }
      ]
    },
    {
      "cell_type": "markdown",
      "source": [
        "**K_fold Cross Validation**\n",
        "\n",
        "https://scikit-learn.org/stable/modules/cross_validation.html"
      ],
      "metadata": {
        "id": "DY9eWY16PaX8"
      }
    },
    {
      "cell_type": "code",
      "source": [
        "from sklearn.model_selection import cross_val_score\n",
        "from sklearn.model_selection import cross_val_predict\n",
        "\n",
        "# Getting score of each fold\n",
        "svm_cross = svm.SVR()\n",
        "scores = cross_val_score(svm_cross, x, y, cv =5)\n",
        "\n",
        "print(\"Cross Validation Scores: \", scores)\n",
        "print(\"Average CV Score: \", scores.mean())\n",
        "print(\"Number of CV Scores used in Average: \", len(scores))\n",
        "\n",
        "# Predicting\n",
        "svm_pred = cross_val_predict(svm_cross, x, y, cv=5)\n",
        "\n",
        "# Plotting measured vs preducted values\n",
        "fig,ax = plt.subplots()\n",
        "ax.scatter(y, svm_pred)\n",
        "ax.plot([y.min(), y.max()], [y.min(), y.max()], 'k--', lw=2)\n",
        "ax.set_xlabel('Measured')\n",
        "ax.set_ylabel('Predicted')\n",
        "ax.set_title('measured vs preducted values')\n",
        "fig.show()"
      ],
      "metadata": {
        "colab": {
          "base_uri": "https://localhost:8080/",
          "height": 347
        },
        "id": "oQrH0Ld0PZ-8",
        "outputId": "52ebfd9c-fecc-4537-95ff-ffd875a49ba6"
      },
      "execution_count": 78,
      "outputs": [
        {
          "output_type": "stream",
          "name": "stdout",
          "text": [
            "Cross Validation Scores:  [0.41339338 0.09920909 0.04761529 0.41437464 0.39955395]\n",
            "Average CV Score:  0.2748292680817501\n",
            "Number of CV Scores used in Average:  5\n"
          ]
        },
        {
          "output_type": "display_data",
          "data": {
            "text/plain": [
              "<Figure size 432x288 with 1 Axes>"
            ],
            "image/png": "[encoded data removed]"
          },
          "metadata": {
            "needs_background": "light"
          }
        }
      ]
    },
    {
      "cell_type": "markdown",
      "source": [
        "**5_ M5P**\n",
        "\n",
        "https://github.com/smarie/python-m5p/commit/7249bcb10c752ad35ef1473327d4be1f78d04161"
      ],
      "metadata": {
        "id": "DKpT3iMIRAwS"
      }
    },
    {
      "cell_type": "code",
      "source": [
        "!pip install m5py\n",
        "from m5py import M5Prime, export_text_m5"
      ],
      "metadata": {
        "colab": {
          "base_uri": "https://localhost:8080/"
        },
        "id": "o-0nscqaG4V4",
        "outputId": "2a31c0b0-b744-47ae-e310-7c31276fdf85"
      },
      "execution_count": null,
      "outputs": [
        {
          "output_type": "stream",
          "name": "stdout",
          "text": [
            "Looking in indexes: https://pypi.org/simple, https://us-python.pkg.dev/colab-wheels/public/simple/\n",
            "Collecting m5py\n",
            "  Downloading m5py-0.3.1-py2.py3-none-any.whl (27 kB)\n",
            "Requirement already satisfied: scikit-learn in /usr/local/lib/python3.8/dist-packages (from m5py) (1.0.2)\n",
            "Requirement already satisfied: scipy>=1.1.0 in /usr/local/lib/python3.8/dist-packages (from scikit-learn->m5py) (1.7.3)\n",
            "Requirement already satisfied: numpy>=1.14.6 in /usr/local/lib/python3.8/dist-packages (from scikit-learn->m5py) (1.21.6)\n",
            "Requirement already satisfied: joblib>=0.11 in /usr/local/lib/python3.8/dist-packages (from scikit-learn->m5py) (1.2.0)\n",
            "Requirement already satisfied: threadpoolctl>=2.0.0 in /usr/local/lib/python3.8/dist-packages (from scikit-learn->m5py) (3.1.0)\n",
            "Installing collected packages: m5py\n",
            "Successfully installed m5py-0.3.1\n"
          ]
        }
      ]
    },
    {
      "cell_type": "code",
      "source": [
        "X_train= np.array(x_train)\n",
        "Y_train= np.array(y_train)\n",
        "\n",
        "X= np.array(x)\n",
        "Y= np.array(y)\n",
        "\n",
        "#Because M5P model just accept numpy array"
      ],
      "metadata": {
        "id": "lsq9bcjFWpox"
      },
      "execution_count": 90,
      "outputs": []
    },
    {
      "cell_type": "code",
      "source": [
        "# Fitting the training data\n",
        "\n",
        "m5p = M5Prime(random_state= 12)\n",
        "m5p.fit (X_train , Y_train)"
      ],
      "metadata": {
        "colab": {
          "base_uri": "https://localhost:8080/"
        },
        "id": "i--WOJ4gHVx0",
        "outputId": "4d08dc4d-f8a8-469f-8eeb-b872e88e65df"
      },
      "execution_count": null,
      "outputs": [
        {
          "output_type": "execute_result",
          "data": {
            "text/plain": [
              "M5Prime(leaf_model=DeNormalizableLinearRegression(), random_state=12,\n",
              "        use_smoothing='installed')"
            ]
          },
          "metadata": {},
          "execution_count": 43
        }
      ]
    },
    {
      "cell_type": "code",
      "source": [
        "# find optimal random_state with grid search\n",
        "\n",
        "from sklearn.model_selection import GridSearchCV\n",
        "\n",
        "random_state= [0, 12, 24, 42]\n",
        "param_grid = dict(random_state= random_state)\n",
        "\n",
        "grid = GridSearchCV(estimator=m5p, param_grid=param_grid, verbose=1, n_jobs=-1)\n",
        "grid_result = grid.fit(X_train, Y_train)\n",
        "print('Best Score: ', grid_result.best_score_)\n",
        "print('Best Params: ', grid_result.best_params_)"
      ],
      "metadata": {
        "colab": {
          "base_uri": "https://localhost:8080/"
        },
        "id": "L7rg3ZfM-4l5",
        "outputId": "ef6ca2b9-06f5-40c6-cb93-5c927b7aa564"
      },
      "execution_count": null,
      "outputs": [
        {
          "output_type": "stream",
          "name": "stdout",
          "text": [
            "Fitting 5 folds for each of 4 candidates, totalling 20 fits\n",
            "Best Score:  0.987907921544444\n",
            "Best Params:  {'random_state': 42}\n"
          ]
        }
      ]
    },
    {
      "cell_type": "code",
      "source": [
        "#Predicting y for x_samp_test\n",
        "\n",
        "m5p_predict= m5p.predict(x_test)\n",
        "m5p_predict"
      ],
      "metadata": {
        "colab": {
          "base_uri": "https://localhost:8080/"
        },
        "id": "m_WCe5eoJp4l",
        "outputId": "0a7fbfd0-1dcd-4f03-8a9f-fdca1efe24a3"
      },
      "execution_count": null,
      "outputs": [
        {
          "output_type": "execute_result",
          "data": {
            "text/plain": [
              "array([14.30804157, 13.76798725,  4.39104033, 10.07228279,  2.02557755,\n",
              "       10.22900009, 16.65886497,  8.64511204,  2.8497138 , 17.74974632,\n",
              "        5.24986076, 10.58934498, 11.76115322, 16.30950546,  6.29322815,\n",
              "       15.85595703, 15.85640621, 16.70656586, 16.93078613,  9.45339203,\n",
              "       16.18937874, 14.16934204,  7.19626808, 13.18528748,  6.65487957,\n",
              "       16.97290611,  9.63520813, 15.13759422,  3.62740993, 16.53021622])"
            ]
          },
          "metadata": {},
          "execution_count": 45
        }
      ]
    },
    {
      "cell_type": "code",
      "source": [
        "#calculating the scores\n",
        "\n",
        "from sklearn import metrics\n",
        "\n",
        "expected_y  = y_test\n",
        "predicted_y = m5p.predict(x_test)\n",
        "\n",
        "MSE= metrics.mean_squared_error(expected_y, predicted_y)\n",
        "MAE= metrics.mean_absolute_error(expected_y, predicted_y)\n",
        "r2= metrics.r2_score(expected_y, predicted_y)\n",
        "EVS= metrics.explained_variance_score(expected_y, predicted_y)\n",
        "MPL= metrics.mean_pinball_loss(expected_y, predicted_y)\n",
        "# d2p= metrics.d2_pinball_score(expected_y, predicted_y)\n",
        "# d2a= metrics.d2_absolute_error_score(expected_y, predicted_y)\n",
        "\n",
        "print ('score: ', m5p.score(x_test, y_test))\n",
        "print('MSE: ', MSE,\"\\n\",'MAE: ', MAE,\"\\n\",'r2: ', r2,\"\\n\",'EVS: ', EVS,\"\\n\",'MPL: ', MPL)"
      ],
      "metadata": {
        "colab": {
          "base_uri": "https://localhost:8080/"
        },
        "id": "tKYRetV5PMhI",
        "outputId": "17c6bdd4-e42d-476e-b967-e28cb83834f6"
      },
      "execution_count": null,
      "outputs": [
        {
          "output_type": "stream",
          "name": "stdout",
          "text": [
            "score:  0.9891731980048167\n",
            "MSE:  0.25347311367191944 \n",
            " MAE:  0.4011229960123697 \n",
            " r2:  0.9891731980048167 \n",
            " EVS:  0.9897605566472666 \n",
            " MPL:  0.20056149800618486\n"
          ]
        }
      ]
    },
    {
      "cell_type": "code",
      "source": [
        "# Drawing metrics plot\n",
        "\n",
        "array = ('MSE', 'MAE', 'r2', 'EVS', 'MPL')\n",
        "count= (MSE ,MAE, r2, EVS, MPL)\n",
        "plt.bar(array, count)\n",
        "plt.xlabel('Metrics')\n",
        "plt.show() "
      ],
      "metadata": {
        "colab": {
          "base_uri": "https://localhost:8080/",
          "height": 279
        },
        "id": "9FeqbjJvP5wr",
        "outputId": "efa17635-74ec-4f5c-fbbb-e20299e08110"
      },
      "execution_count": null,
      "outputs": [
        {
          "output_type": "display_data",
          "data": {
            "text/plain": [
              "<Figure size 432x288 with 1 Axes>"
            ],
            "image/png": "[encoded data removed]"
          },
          "metadata": {
            "needs_background": "light"
          }
        }
      ]
    },
    {
      "cell_type": "markdown",
      "source": [
        "**K_fold Cross Validation**\n",
        "\n",
        "https://scikit-learn.org/stable/modules/cross_validation.html"
      ],
      "metadata": {
        "id": "_xzd0H0wQZ23"
      }
    },
    {
      "cell_type": "code",
      "source": [
        "from sklearn.model_selection import cross_val_score\n",
        "from sklearn.model_selection import cross_val_predict\n",
        "\n",
        "# Getting score of each fold\n",
        "m5p_cross = M5Prime(random_state= 12)\n",
        "scores = cross_val_score(m5p_cross, X, Y, cv =5)\n",
        "\n",
        "print(\"Cross Validation Scores: \", scores)\n",
        "print(\"Average CV Score: \", scores.mean())\n",
        "print(\"Number of CV Scores used in Average: \", len(scores))\n",
        "\n",
        "# Predicting\n",
        "m5p_pred = cross_val_predict(m5p_cross, X, Y, cv=5)\n",
        "\n",
        "# Plotting measured vs preducted values\n",
        "fig,ax = plt.subplots()\n",
        "ax.scatter(y, m5p_pred)\n",
        "ax.plot([y.min(), y.max()], [y.min(), y.max()], 'k--', lw=2)\n",
        "ax.set_xlabel('Measured')\n",
        "ax.set_ylabel('Predicted')\n",
        "ax.set_title('measured vs preducted values')\n",
        "fig.show()"
      ],
      "metadata": {
        "colab": {
          "base_uri": "https://localhost:8080/",
          "height": 347
        },
        "id": "-_d3-6EKQaX2",
        "outputId": "46f80668-118d-417f-877f-bb38bd6377e4"
      },
      "execution_count": 91,
      "outputs": [
        {
          "output_type": "stream",
          "name": "stdout",
          "text": [
            "Cross Validation Scores:  [0.98981669 0.98550752 0.98808756 0.99386799 0.9890841 ]\n",
            "Average CV Score:  0.9892727730890061\n",
            "Number of CV Scores used in Average:  5\n"
          ]
        },
        {
          "output_type": "display_data",
          "data": {
            "text/plain": [
              "<Figure size 432x288 with 1 Axes>"
            ],
            "image/png": "[encoded data removed]"
          },
          "metadata": {
            "needs_background": "light"
          }
        }
      ]
    },
    {
      "cell_type": "markdown",
      "source": [
        "**6_ BM5P**\n",
        "\n",
        "https://machinelearningmastery.com/bagging-ensemble-with-python/"
      ],
      "metadata": {
        "id": "HFKWB5wvSwJf"
      }
    },
    {
      "cell_type": "code",
      "source": [
        "# Fitting the training data\n",
        "\n",
        "from sklearn.ensemble import BaggingRegressor\n",
        "\n",
        "bgr = BaggingRegressor(n_estimators= 50)\n",
        "bgr.fit (x_train , y_train)"
      ],
      "metadata": {
        "colab": {
          "base_uri": "https://localhost:8080/"
        },
        "id": "fwb_q0jRSvpn",
        "outputId": "dcd528ab-668c-450f-87c1-019c43b8289b"
      },
      "execution_count": null,
      "outputs": [
        {
          "output_type": "execute_result",
          "data": {
            "text/plain": [
              "BaggingRegressor(n_estimators=50)"
            ]
          },
          "metadata": {},
          "execution_count": 48
        }
      ]
    },
    {
      "cell_type": "code",
      "source": [
        "# find optimal n_estimators with grid search\n",
        "\n",
        "from sklearn.model_selection import GridSearchCV\n",
        "\n",
        "n_estimators= [10, 20, 30, 40, 50 ,60, 70, 80, 90 ,100]\n",
        "param_grid = dict(n_estimators= n_estimators)\n",
        "\n",
        "grid = GridSearchCV(estimator=bgr, param_grid=param_grid, verbose=1, n_jobs=-1)\n",
        "grid_result = grid.fit(x_train, y_train)\n",
        "print('Best Score: ', grid_result.best_score_)\n",
        "print('Best Params: ', grid_result.best_params_)"
      ],
      "metadata": {
        "colab": {
          "base_uri": "https://localhost:8080/"
        },
        "id": "seHamdtY-HMy",
        "outputId": "0a76d350-0524-4bb7-c448-75db7c661355"
      },
      "execution_count": null,
      "outputs": [
        {
          "output_type": "stream",
          "name": "stdout",
          "text": [
            "Fitting 5 folds for each of 10 candidates, totalling 50 fits\n",
            "Best Score:  0.9601026304091999\n",
            "Best Params:  {'n_estimators': 90}\n"
          ]
        }
      ]
    },
    {
      "cell_type": "code",
      "source": [
        "#Predicting y for x_samp_test\n",
        "\n",
        "bgr_predict= bgr.predict(x_test)\n",
        "bgr_predict"
      ],
      "metadata": {
        "colab": {
          "base_uri": "https://localhost:8080/"
        },
        "id": "tOhtWN2VULxB",
        "outputId": "5d0f6e3d-5e04-415d-ec5b-497995733800"
      },
      "execution_count": 98,
      "outputs": [
        {
          "output_type": "execute_result",
          "data": {
            "text/plain": [
              "array([15.9232, 15.6836,  5.1138, 11.0582,  3.6578, 10.8886, 16.6286,\n",
              "        8.5346,  2.9856, 16.7686,  5.2026, 11.8812, 10.9234, 16.247 ,\n",
              "        5.8134, 15.755 , 16.2928, 16.4118, 16.285 ,  8.1852, 16.165 ,\n",
              "       15.5986,  8.6306, 11.636 ,  7.305 , 16.8064, 10.8434, 14.1304,\n",
              "        3.9488, 14.606 ])"
            ]
          },
          "metadata": {},
          "execution_count": 98
        }
      ]
    },
    {
      "cell_type": "code",
      "source": [
        "#calculating the scores\n",
        "\n",
        "from sklearn import metrics\n",
        "\n",
        "expected_y  = y_test\n",
        "predicted_y = bgr.predict(x_test)\n",
        "\n",
        "MSE= metrics.mean_squared_error(expected_y, predicted_y)\n",
        "MAE= metrics.mean_absolute_error(expected_y, predicted_y)\n",
        "r2= metrics.r2_score(expected_y, predicted_y)\n",
        "EVS= metrics.explained_variance_score(expected_y, predicted_y)\n",
        "MPL= metrics.mean_pinball_loss(expected_y, predicted_y)\n",
        "# d2p= metrics.d2_pinball_score(expected_y, predicted_y)\n",
        "# d2a= metrics.d2_absolute_error_score(expected_y, predicted_y)\n",
        "\n",
        "print ('score: ', bgr.score(x_test, y_test))\n",
        "print ('MSE: ', MSE,\"\\n\",'MAE: ', MAE,\"\\n\",'r2: ', r2,\"\\n\",'EVS: ', EVS,\"\\n\",'MPL: ', MPL)"
      ],
      "metadata": {
        "colab": {
          "base_uri": "https://localhost:8080/"
        },
        "id": "NqEqGe6pUUs-",
        "outputId": "342d4063-1610-475c-ddf3-62a5c9eec523"
      },
      "execution_count": null,
      "outputs": [
        {
          "output_type": "stream",
          "name": "stdout",
          "text": [
            "score:  0.958446761433357\n",
            "MSE:  0.9728291666666645 \n",
            " MAE:  0.8067400000000001 \n",
            " r2:  0.958446761433357 \n",
            " EVS:  0.9585384848774325 \n",
            " MPL:  0.40337000000000006\n"
          ]
        }
      ]
    },
    {
      "cell_type": "code",
      "source": [
        "# Drawing metrics plot\n",
        "\n",
        "array = ('MSE', 'MAE', 'r2', 'EVS', 'MPL')\n",
        "count= (MSE ,MAE, r2, EVS, MPL)\n",
        "plt.bar(array, count)\n",
        "plt.xlabel('Metrics')\n",
        "plt.show() "
      ],
      "metadata": {
        "colab": {
          "base_uri": "https://localhost:8080/",
          "height": 279
        },
        "id": "2JKnFawHUs8c",
        "outputId": "b3c47e39-8788-44c7-8c59-991a6cabbbc6"
      },
      "execution_count": null,
      "outputs": [
        {
          "output_type": "display_data",
          "data": {
            "text/plain": [
              "<Figure size 432x288 with 1 Axes>"
            ],
            "image/png": "[encoded data removed]"
          },
          "metadata": {
            "needs_background": "light"
          }
        }
      ]
    },
    {
      "cell_type": "markdown",
      "source": [
        "**K_fold Cross Validation**\n",
        "\n",
        "https://scikit-learn.org/stable/modules/cross_validation.html"
      ],
      "metadata": {
        "id": "c-tqI41fSFfS"
      }
    },
    {
      "cell_type": "code",
      "source": [
        "from sklearn.model_selection import cross_val_score\n",
        "from sklearn.model_selection import cross_val_predict\n",
        "\n",
        "# Getting score of each fold\n",
        "bm5p_cross = BaggingRegressor(n_estimators= 50)\n",
        "scores = cross_val_score(bm5p_cross, x, y, cv =5)\n",
        "\n",
        "print(\"Cross Validation Scores: \", scores)\n",
        "print(\"Average CV Score: \", scores.mean())\n",
        "print(\"Number of CV Scores used in Average: \", len(scores))\n",
        "\n",
        "# Predicting\n",
        "bm5p_pred = cross_val_predict(bm5p_cross, x, y, cv=5)\n",
        "\n",
        "# Plotting measured vs preducted values\n",
        "fig,ax = plt.subplots()\n",
        "ax.scatter(y, bm5p_pred)\n",
        "ax.plot([y.min(), y.max()], [y.min(), y.max()], 'k--', lw=2)\n",
        "ax.set_xlabel('Measured')\n",
        "ax.set_ylabel('Predicted')\n",
        "ax.set_title('measured vs preducted values')\n",
        "fig.show()"
      ],
      "metadata": {
        "colab": {
          "base_uri": "https://localhost:8080/",
          "height": 347
        },
        "outputId": "6df0cdc5-f0a5-42db-abff-f502b690b673",
        "id": "pymr7W5aSFfv"
      },
      "execution_count": 99,
      "outputs": [
        {
          "output_type": "stream",
          "name": "stdout",
          "text": [
            "Cross Validation Scores:  [0.97066578 0.92877394 0.944752   0.98235637 0.98087998]\n",
            "Average CV Score:  0.9614856142599999\n",
            "Number of CV Scores used in Average:  5\n"
          ]
        },
        {
          "output_type": "display_data",
          "data": {
            "text/plain": [
              "<Figure size 432x288 with 1 Axes>"
            ],
            "image/png": "[encoded data removed]"
          },
          "metadata": {
            "needs_background": "light"
          }
        }
      ]
    },
    {
      "cell_type": "markdown",
      "source": [
        "**7_ Ridge Regression**\n",
        "\n",
        "\n",
        "https://scikit-learn.org/stable/modules/generated/sklearn.linear_model.Ridge.html"
      ],
      "metadata": {
        "id": "Fcru0SJr7xNB"
      }
    },
    {
      "cell_type": "code",
      "source": [
        "# Fitting the training data\n",
        "\n",
        "from sklearn.linear_model import Ridge\n",
        "\n",
        "rdg = Ridge(alpha=0.1)\n",
        "rdg.fit(x_train, y_train)"
      ],
      "metadata": {
        "colab": {
          "base_uri": "https://localhost:8080/"
        },
        "id": "yMvW8awEW1Fb",
        "outputId": "27ecff00-deca-4092-e762-91c2dd9551ab"
      },
      "execution_count": null,
      "outputs": [
        {
          "output_type": "execute_result",
          "data": {
            "text/plain": [
              "Ridge(alpha=0.1)"
            ]
          },
          "metadata": {},
          "execution_count": 53
        }
      ]
    },
    {
      "cell_type": "code",
      "source": [
        "# find optimal alpha with grid search\n",
        "\n",
        "from sklearn.model_selection import GridSearchCV\n",
        "\n",
        "alpha= [0, 0.1, 0.2, 0.3, 0.4, 0.5, 0.6, 0.7, 0.8, 0.9, 1]\n",
        "param_grid = dict(alpha= alpha)\n",
        "\n",
        "grid = GridSearchCV(estimator=rdg, param_grid=param_grid, verbose=1, n_jobs=-1)\n",
        "grid_result = grid.fit(x_train, y_train)\n",
        "print('Best Score: ', grid_result.best_score_)\n",
        "print('Best Params: ', grid_result.best_params_)"
      ],
      "metadata": {
        "colab": {
          "base_uri": "https://localhost:8080/"
        },
        "id": "H6m0Xs8J8Mm6",
        "outputId": "512bda54-ad16-44cb-a6be-d8c6a693e053"
      },
      "execution_count": null,
      "outputs": [
        {
          "output_type": "stream",
          "name": "stdout",
          "text": [
            "Fitting 5 folds for each of 11 candidates, totalling 55 fits\n",
            "Best Score:  0.9913910752400092\n",
            "Best Params:  {'alpha': 0.1}\n"
          ]
        }
      ]
    },
    {
      "cell_type": "code",
      "source": [
        "#Predicting y for x_samp_test\n",
        "\n",
        "rdg_predict= rdg.predict(x_test)\n",
        "rdg_predict"
      ],
      "metadata": {
        "colab": {
          "base_uri": "https://localhost:8080/"
        },
        "id": "dKwoiBP_7Up_",
        "outputId": "e42991a8-067c-419b-9f71-bf1d000f772f"
      },
      "execution_count": null,
      "outputs": [
        {
          "output_type": "execute_result",
          "data": {
            "text/plain": [
              "array([15.14617868, 13.61379196,  4.70421007, 10.10466234,  2.11950412,\n",
              "       10.22359148, 16.76239174,  8.28741637,  2.87098131, 18.782868  ,\n",
              "        5.65106261, 10.99832711, 11.45081228, 16.51097134,  6.54767883,\n",
              "       15.58905132, 16.04073024, 16.63782509, 16.76994602,  9.38490673,\n",
              "       16.38527577, 14.13488027,  7.41747754, 13.5112086 ,  7.00058976,\n",
              "       17.14055414, 10.02325899, 14.95475425,  3.9613015 , 16.68544929])"
            ]
          },
          "metadata": {},
          "execution_count": 55
        }
      ]
    },
    {
      "cell_type": "code",
      "source": [
        "#calculating the scores\n",
        "\n",
        "from sklearn import metrics\n",
        "\n",
        "expected_y  = y_test\n",
        "predicted_y = rdg.predict(x_test)\n",
        "\n",
        "MSE= metrics.mean_squared_error(expected_y, predicted_y)\n",
        "MAE= metrics.mean_absolute_error(expected_y, predicted_y)\n",
        "r2= metrics.r2_score(expected_y, predicted_y)\n",
        "EVS= metrics.explained_variance_score(expected_y, predicted_y)\n",
        "MPL= metrics.mean_pinball_loss(expected_y, predicted_y)\n",
        "# d2p= metrics.d2_pinball_score(expected_y, predicted_y)\n",
        "# d2a= metrics.d2_absolute_error_score(expected_y, predicted_y)\n",
        "\n",
        "print ('score: ', rdg.score(x_test, y_test))\n",
        "print ('MSE: ', MSE,\"\\n\",'MAE: ', MAE,\"\\n\",'r2: ', r2,\"\\n\",'EVS: ', EVS,\"\\n\",'MPL: ', MPL)"
      ],
      "metadata": {
        "colab": {
          "base_uri": "https://localhost:8080/"
        },
        "id": "9Y3b5oSt7bld",
        "outputId": "075ef628-2b3c-406c-a9e4-58101e093837"
      },
      "execution_count": null,
      "outputs": [
        {
          "output_type": "stream",
          "name": "stdout",
          "text": [
            "score:  0.9906304238098321\n",
            "MSE:  0.2193570780886843 \n",
            " MAE:  0.35747802595438455 \n",
            " r2:  0.9906304238098321 \n",
            " EVS:  0.9906681568836312 \n",
            " MPL:  0.17873901297719227\n"
          ]
        }
      ]
    },
    {
      "cell_type": "code",
      "source": [
        "# Drawing metrics plot\n",
        "\n",
        "array = ('MSE', 'MAE', 'r2', 'EVS', 'MPL')\n",
        "count= (MSE ,MAE, r2, EVS, MPL)\n",
        "plt.bar(array, count)\n",
        "plt.xlabel('Metrics')\n",
        "plt.show() "
      ],
      "metadata": {
        "colab": {
          "base_uri": "https://localhost:8080/",
          "height": 279
        },
        "id": "O_KYvpGf7lI3",
        "outputId": "3fe80144-2d9a-44e1-a1d9-4901e4f80ce8"
      },
      "execution_count": null,
      "outputs": [
        {
          "output_type": "display_data",
          "data": {
            "text/plain": [
              "<Figure size 432x288 with 1 Axes>"
            ],
            "image/png": "[encoded data removed]"
          },
          "metadata": {
            "needs_background": "light"
          }
        }
      ]
    },
    {
      "cell_type": "markdown",
      "source": [
        "**K_fold Cross Validation**\n",
        "\n",
        "https://scikit-learn.org/stable/modules/cross_validation.html"
      ],
      "metadata": {
        "id": "np-fFSHzSrkf"
      }
    },
    {
      "cell_type": "code",
      "source": [
        "from sklearn.model_selection import cross_val_score\n",
        "from sklearn.model_selection import cross_val_predict\n",
        "\n",
        "# Getting score of each fold\n",
        "rdg_cross = Ridge(alpha=0.1)\n",
        "scores = cross_val_score(rdg_cross, x, y, cv =5)\n",
        "\n",
        "print(\"Cross Validation Scores: \", scores)\n",
        "print(\"Average CV Score: \", scores.mean())\n",
        "print(\"Number of CV Scores used in Average: \", len(scores))\n",
        "\n",
        "# Predicting\n",
        "rdg_pred = cross_val_predict(rdg_cross, x, y, cv=5)\n",
        "\n",
        "# Plotting measured vs preducted values\n",
        "fig,ax = plt.subplots()\n",
        "ax.scatter(y, rdg_pred)\n",
        "ax.plot([y.min(), y.max()], [y.min(), y.max()], 'k--', lw=2)\n",
        "ax.set_xlabel('Measured')\n",
        "ax.set_ylabel('Predicted')\n",
        "ax.set_title('measured vs preducted values')\n",
        "fig.show()"
      ],
      "metadata": {
        "colab": {
          "base_uri": "https://localhost:8080/",
          "height": 347
        },
        "outputId": "ac01e9cc-2bc6-43e0-883d-10e008d3bf23",
        "id": "CKuOVJUfSrkg"
      },
      "execution_count": 97,
      "outputs": [
        {
          "output_type": "stream",
          "name": "stdout",
          "text": [
            "Cross Validation Scores:  [0.98886471 0.98608947 0.98787967 0.9969624  0.99401253]\n",
            "Average CV Score:  0.9907617563003216\n",
            "Number of CV Scores used in Average:  5\n"
          ]
        },
        {
          "output_type": "display_data",
          "data": {
            "text/plain": [
              "<Figure size 432x288 with 1 Axes>"
            ],
            "image/png": "[encoded data removed]"
          },
          "metadata": {
            "needs_background": "light"
          }
        }
      ]
    },
    {
      "cell_type": "markdown",
      "source": [
        "**8_ Lasso Regression**"
      ],
      "metadata": {
        "id": "8-2z_DYV8EbN"
      }
    },
    {
      "cell_type": "code",
      "source": [
        "# Fitting the training data\n",
        "\n",
        "from sklearn import linear_model\n",
        "\n",
        "lss = linear_model.Lasso(alpha=0)\n",
        "lss.fit(x_train, y_train)"
      ],
      "metadata": {
        "colab": {
          "base_uri": "https://localhost:8080/"
        },
        "id": "6XVcQoPp8GJU",
        "outputId": "e84f46e1-8825-4929-bc9e-7a8a236fe10a"
      },
      "execution_count": null,
      "outputs": [
        {
          "output_type": "execute_result",
          "data": {
            "text/plain": [
              "Lasso(alpha=0)"
            ]
          },
          "metadata": {},
          "execution_count": 58
        }
      ]
    },
    {
      "cell_type": "code",
      "source": [
        "# find optimal alpha with grid search\n",
        "\n",
        "alpha= [0, 0.1, 0.2, 0.3, 0.4, 0.5, 0.6, 0.7, 0.8, 0.9, 1]\n",
        "param_grid = dict(alpha= alpha)\n",
        "\n",
        "grid = GridSearchCV(estimator=lss, param_grid=param_grid, scoring='r2', verbose=1, n_jobs=-1)\n",
        "grid_result = grid.fit(x_train, y_train)\n",
        "print('Best Score: ', grid_result.best_score_)\n",
        "print('Best Params: ', grid_result.best_params_)"
      ],
      "metadata": {
        "colab": {
          "base_uri": "https://localhost:8080/"
        },
        "id": "2OEMS8ie6mCr",
        "outputId": "3e9293a2-ce31-4e63-9e4f-02a9481f6646"
      },
      "execution_count": null,
      "outputs": [
        {
          "output_type": "stream",
          "name": "stdout",
          "text": [
            "Fitting 5 folds for each of 11 candidates, totalling 55 fits\n",
            "Best Score:  0.9913864299173598\n",
            "Best Params:  {'alpha': 0}\n"
          ]
        }
      ]
    },
    {
      "cell_type": "code",
      "source": [
        "#Predicting y for x_samp_test\n",
        "\n",
        "lss_predict= lss.predict(x_test)\n",
        "lss_predict"
      ],
      "metadata": {
        "colab": {
          "base_uri": "https://localhost:8080/"
        },
        "id": "tEcVsVn78Wm8",
        "outputId": "6e54f4e3-e957-4583-f33f-0b8c176dfa73"
      },
      "execution_count": null,
      "outputs": [
        {
          "output_type": "execute_result",
          "data": {
            "text/plain": [
              "array([15.13543143, 13.60149824,  4.70776558, 10.11952594,  2.08345416,\n",
              "       10.20748236, 16.77832838,  8.26271681,  2.90106966, 18.74644102,\n",
              "        5.67045287, 11.00166338, 11.44677695, 16.55012298,  6.5609356 ,\n",
              "       15.68323714, 16.05579054, 16.62666327, 16.79781467,  9.39151545,\n",
              "       16.39526348, 14.14662086,  7.40939652, 13.54042486,  6.98645604,\n",
              "       17.14132499, 10.02920217, 14.97661371,  3.96900346, 16.70192032])"
            ]
          },
          "metadata": {},
          "execution_count": 60
        }
      ]
    },
    {
      "cell_type": "code",
      "source": [
        "#calculating the scores\n",
        "\n",
        "from sklearn import metrics\n",
        "\n",
        "expected_y  = y_test\n",
        "predicted_y = lss.predict(x_test)\n",
        "\n",
        "MSE= metrics.mean_squared_error(expected_y, predicted_y)\n",
        "MAE= metrics.mean_absolute_error(expected_y, predicted_y)\n",
        "r2= metrics.r2_score(expected_y, predicted_y)\n",
        "EVS= metrics.explained_variance_score(expected_y, predicted_y)\n",
        "MPL= metrics.mean_pinball_loss(expected_y, predicted_y)\n",
        "# d2p= metrics.d2_pinball_score(expected_y, predicted_y)\n",
        "# d2a= metrics.d2_absolute_error_score(expected_y, predicted_y)\n",
        "\n",
        "print ('score: ', lss.score(x_test, y_test))\n",
        "print ('MSE: ', MSE,\"\\n\",'MAE: ', MAE,\"\\n\",'r2: ', r2,\"\\n\",'EVS: ', EVS,\"\\n\",'MPL: ', MPL)"
      ],
      "metadata": {
        "colab": {
          "base_uri": "https://localhost:8080/"
        },
        "id": "c1qa6nqB8ezQ",
        "outputId": "80738b30-bfb8-462f-d31b-5cc1ea9298c3"
      },
      "execution_count": null,
      "outputs": [
        {
          "output_type": "stream",
          "name": "stdout",
          "text": [
            "score:  0.9908394035297609\n",
            "MSE:  0.21446452160449064 \n",
            " MAE:  0.356347296098665 \n",
            " r2:  0.9908394035297609 \n",
            " EVS:  0.990897343975471 \n",
            " MPL:  0.1781736480493325\n"
          ]
        }
      ]
    },
    {
      "cell_type": "code",
      "source": [
        "# Drawing metrics plot\n",
        "\n",
        "array = ('MSE', 'MAE', 'r2', 'EVS', 'MPL')\n",
        "count= (MSE ,MAE, r2, EVS, MPL)\n",
        "plt.bar(array, count)\n",
        "plt.xlabel('Metrics')\n",
        "plt.show() "
      ],
      "metadata": {
        "colab": {
          "base_uri": "https://localhost:8080/",
          "height": 279
        },
        "id": "R_V15kXn8k-l",
        "outputId": "727c1e31-0eeb-455d-9413-acf4b5af2545"
      },
      "execution_count": null,
      "outputs": [
        {
          "output_type": "display_data",
          "data": {
            "text/plain": [
              "<Figure size 432x288 with 1 Axes>"
            ],
            "image/png": "[encoded data removed]"
          },
          "metadata": {
            "needs_background": "light"
          }
        }
      ]
    },
    {
      "cell_type": "markdown",
      "source": [
        "**K_fold Cross Validation**\n",
        "\n",
        "https://scikit-learn.org/stable/modules/cross_validation.html"
      ],
      "metadata": {
        "id": "5vJbnUfnTgLc"
      }
    },
    {
      "cell_type": "code",
      "source": [
        "from sklearn.model_selection import cross_val_score\n",
        "from sklearn.model_selection import cross_val_predict\n",
        "\n",
        "# Getting score of each fold\n",
        "lss_cross = linear_model.Lasso(alpha=0)\n",
        "scores = cross_val_score(lss_cross, x, y, cv =5)\n",
        "\n",
        "print(\"Cross Validation Scores: \", scores)\n",
        "print(\"Average CV Score: \", scores.mean())\n",
        "print(\"Number of CV Scores used in Average: \", len(scores))\n",
        "\n",
        "# Predicting\n",
        "lss_pred = cross_val_predict(lss_cross, x, y, cv=5)\n",
        "\n",
        "# Plotting measured vs preducted values\n",
        "fig,ax = plt.subplots()\n",
        "ax.scatter(y, lss_pred)\n",
        "ax.plot([y.min(), y.max()], [y.min(), y.max()], 'k--', lw=2)\n",
        "ax.set_xlabel('Measured')\n",
        "ax.set_ylabel('Predicted')\n",
        "ax.set_title('measured vs preducted values')\n",
        "fig.show()"
      ],
      "metadata": {
        "colab": {
          "base_uri": "https://localhost:8080/",
          "height": 347
        },
        "outputId": "3c6f4d5f-2f6e-404d-86bc-8c4133ddd085",
        "id": "o1HNV-FuTgLd"
      },
      "execution_count": 101,
      "outputs": [
        {
          "output_type": "stream",
          "name": "stdout",
          "text": [
            "Cross Validation Scores:  [0.98981672 0.98550753 0.98808764 0.99698    0.99373047]\n",
            "Average CV Score:  0.9908244726570421\n",
            "Number of CV Scores used in Average:  5\n"
          ]
        },
        {
          "output_type": "display_data",
          "data": {
            "text/plain": [
              "<Figure size 432x288 with 1 Axes>"
            ],
            "image/png": "[encoded data removed]"
          },
          "metadata": {
            "needs_background": "light"
          }
        }
      ]
    },
    {
      "cell_type": "markdown",
      "source": [
        "**9_ RandomForestRegressor**"
      ],
      "metadata": {
        "id": "rQGYFctFBeGh"
      }
    },
    {
      "cell_type": "code",
      "source": [
        "# Fitting the training data\n",
        "\n",
        "from sklearn.ensemble import RandomForestRegressor\n",
        "from sklearn.datasets import make_regression\n",
        "\n",
        "rfr= RandomForestRegressor(n_estimators= 60, criterion= 'squared_error', random_state= 42)\n",
        "rfr.fit(x_train, y_train)"
      ],
      "metadata": {
        "colab": {
          "base_uri": "https://localhost:8080/"
        },
        "id": "xvPSi1W6BdnB",
        "outputId": "27b9b12b-5e06-4aa4-a7e6-d29a3123af3b"
      },
      "execution_count": null,
      "outputs": [
        {
          "output_type": "execute_result",
          "data": {
            "text/plain": [
              "RandomForestRegressor(n_estimators=60, random_state=42)"
            ]
          },
          "metadata": {},
          "execution_count": 63
        }
      ]
    },
    {
      "cell_type": "code",
      "source": [
        "# find optimal n_estimators, criterion and random_state with grid search\n",
        "\n",
        "# criterion= ['squared_error', 'absolute_error', 'friedman_mse', 'poisson']\n",
        "# n_estimators = [10, 20, 30, 40, 50 ,60, 70, 80, 90 ,100]\n",
        "# random_state= [0, 12, 24, 42]\n",
        "# param_grid = dict(n_estimators= n_estimators, criterion= criterion, random_state= random_state)\n",
        "\n",
        "# grid = GridSearchCV(estimator=rfr, param_grid=param_grid, scoring='r2', verbose=1, n_jobs=-1)\n",
        "# grid_result = grid.fit(x_train, y_train)\n",
        "\n",
        "# print('Best Score: ', grid_result.best_score_)\n",
        "# print('Best Params: ', grid_result.best_params_)"
      ],
      "metadata": {
        "id": "Qvr3kRYulk7u"
      },
      "execution_count": null,
      "outputs": []
    },
    {
      "cell_type": "code",
      "source": [
        "#Predicting y for x_samp_test\n",
        "\n",
        "rfr_predict= rfr.predict(x_test)\n",
        "rfr_predict"
      ],
      "metadata": {
        "colab": {
          "base_uri": "https://localhost:8080/"
        },
        "id": "KoWT6U-PBjOZ",
        "outputId": "dd1a488a-b34a-477e-cde2-e58ba77f1990"
      },
      "execution_count": null,
      "outputs": [
        {
          "output_type": "execute_result",
          "data": {
            "text/plain": [
              "array([15.72683333, 15.50633333,  4.86483333, 11.274     ,  3.736     ,\n",
              "       10.83916667, 16.48666667,  8.21583333,  2.808     , 16.725     ,\n",
              "        4.9985    , 11.7385    , 10.921     , 16.13866667,  6.036     ,\n",
              "       15.62983333, 16.066     , 16.36783333, 16.1895    ,  7.91433333,\n",
              "       15.79783333, 15.32416667,  8.51166667, 11.30083333,  7.07733333,\n",
              "       16.60966667, 10.78233333, 14.1145    ,  4.16366667, 14.71366667])"
            ]
          },
          "metadata": {},
          "execution_count": 65
        }
      ]
    },
    {
      "cell_type": "code",
      "source": [
        "#calculating the scores\n",
        "\n",
        "from sklearn import metrics\n",
        "\n",
        "expected_y  = y_test\n",
        "predicted_y = rfr.predict(x_test)\n",
        "\n",
        "MSE= metrics.mean_squared_error(expected_y, predicted_y)\n",
        "MAE= metrics.mean_absolute_error(expected_y, predicted_y)\n",
        "r2= metrics.r2_score(expected_y, predicted_y)\n",
        "EVS= metrics.explained_variance_score(expected_y, predicted_y)\n",
        "MPL= metrics.mean_pinball_loss(expected_y, predicted_y)\n",
        "# d2p= metrics.d2_pinball_score(expected_y, predicted_y)\n",
        "# d2a= metrics.d2_absolute_error_score(expected_y, predicted_y)\n",
        "\n",
        "print ('score: ', rfr.score(x_test, y_test))\n",
        "print ('MSE: ', MSE,\"\\n\",'MAE: ', MAE,\"\\n\",'r2: ', r2,\"\\n\",'EVS: ', EVS,\"\\n\",'MPL: ', MPL)"
      ],
      "metadata": {
        "colab": {
          "base_uri": "https://localhost:8080/"
        },
        "id": "ZTcKzpsYD8Df",
        "outputId": "1c84e749-5698-453d-d4a4-219fcff94436"
      },
      "execution_count": null,
      "outputs": [
        {
          "output_type": "stream",
          "name": "stdout",
          "text": [
            "score:  0.9568984328268919\n",
            "MSE:  1.0090780675925917 \n",
            " MAE:  0.820761111111111 \n",
            " r2:  0.9568984328268919 \n",
            " EVS:  0.957077328804132 \n",
            " MPL:  0.4103805555555555\n"
          ]
        }
      ]
    },
    {
      "cell_type": "code",
      "source": [
        "# Drawing metrics plot\n",
        "\n",
        "array = ('MSE', 'MAE', 'r2', 'EVS', 'MPL')\n",
        "count= (MSE ,MAE, r2, EVS, MPL)\n",
        "plt.bar(array, count)\n",
        "plt.xlabel('Metrics')\n",
        "plt.show()"
      ],
      "metadata": {
        "colab": {
          "base_uri": "https://localhost:8080/",
          "height": 279
        },
        "id": "tuiVFkRDEADx",
        "outputId": "b5f90e44-c1da-4366-96fe-a2b34fa1b4ec"
      },
      "execution_count": null,
      "outputs": [
        {
          "output_type": "display_data",
          "data": {
            "text/plain": [
              "<Figure size 432x288 with 1 Axes>"
            ],
            "image/png": "[encoded data removed]"
          },
          "metadata": {
            "needs_background": "light"
          }
        }
      ]
    },
    {
      "cell_type": "code",
      "source": [
        "plt.figure()\n",
        "plt.scatter(x_test[:,0], rfr_predict, s=20, edgecolor=\"black\",\n",
        "            c=\"darkorange\", label=\"data\")\n",
        "plt.plot(x_test[:,0], rfr_predict, color=\"cornflowerblue\", label= 'rfr' , linewidth=2)\n",
        "plt.xlabel(\"data\")\n",
        "plt.ylabel(\"target\")\n",
        "plt.title(\"Random Forest Regression\")\n",
        "plt.legend()\n",
        "plt.show()"
      ],
      "metadata": {
        "colab": {
          "base_uri": "https://localhost:8080/",
          "height": 295
        },
        "id": "u0Pt2hlglhXT",
        "outputId": "8e47a80d-077f-482c-91bf-4befbf3eca31"
      },
      "execution_count": 131,
      "outputs": [
        {
          "output_type": "display_data",
          "data": {
            "text/plain": [
              "<Figure size 432x288 with 1 Axes>"
            ],
            "image/png": "[encoded data removed]"
          },
          "metadata": {
            "needs_background": "light"
          }
        }
      ]
    },
    {
      "cell_type": "markdown",
      "source": [
        "**K_fold Cross Validation**\n",
        "\n",
        "https://scikit-learn.org/stable/modules/cross_validation.html"
      ],
      "metadata": {
        "id": "g-d9c0tET2Oj"
      }
    },
    {
      "cell_type": "code",
      "source": [
        "from sklearn.model_selection import cross_val_score\n",
        "from sklearn.model_selection import cross_val_predict\n",
        "\n",
        "# Getting score of each fold\n",
        "rfr_cross = RandomForestRegressor(n_estimators= 60, criterion= 'squared_error', random_state= 42)\n",
        "scores = cross_val_score(rfr_cross, x, y, cv =5)\n",
        "\n",
        "print(\"Cross Validation Scores: \", scores)\n",
        "print(\"Average CV Score: \", scores.mean())\n",
        "print(\"Number of CV Scores used in Average: \", len(scores))\n",
        "\n",
        "# Predicting\n",
        "rfr_pred = cross_val_predict(rfr_cross, x, y, cv=5)\n",
        "\n",
        "# Plotting measured vs preducted values\n",
        "fig,ax = plt.subplots()\n",
        "ax.scatter(y, rfr_pred)\n",
        "ax.plot([y.min(), y.max()], [y.min(), y.max()], 'k--', lw=2)\n",
        "ax.set_xlabel('Measured')\n",
        "ax.set_ylabel('Predicted')\n",
        "ax.set_title('measured vs preducted values')\n",
        "fig.show()"
      ],
      "metadata": {
        "colab": {
          "base_uri": "https://localhost:8080/",
          "height": 347
        },
        "outputId": "5f20faa7-c4cc-469f-a90f-245b9f76cb11",
        "id": "LfqEej28T2Ok"
      },
      "execution_count": 102,
      "outputs": [
        {
          "output_type": "stream",
          "name": "stdout",
          "text": [
            "Cross Validation Scores:  [0.9673469  0.93154911 0.94715015 0.98344698 0.98071909]\n",
            "Average CV Score:  0.9620424469920644\n",
            "Number of CV Scores used in Average:  5\n"
          ]
        },
        {
          "output_type": "display_data",
          "data": {
            "text/plain": [
              "<Figure size 432x288 with 1 Axes>"
            ],
            "image/png": "[encoded data removed]"
          },
          "metadata": {
            "needs_background": "light"
          }
        }
      ]
    },
    {
      "cell_type": "code",
      "source": [
        "rows= [dtc_pred, gbr_pred, mlp_pred, svm_pred, m5p_pred, bm5p_pred, rdg_pred, lss_pred, rfr_pred]\n",
        "columns= [dtc_pred, gbr_pred, mlp_pred, svm_pred, m5p_pred, bm5p_pred, rdg_pred, lss_pred, rfr_pred]\n"
      ],
      "metadata": {
        "id": "DBSsUoNQezKX"
      },
      "execution_count": 119,
      "outputs": []
    },
    {
      "cell_type": "code",
      "source": [
        "# Plotting multiple models on scatter plot (cross validation)\n",
        "\n",
        "fig,ax = plt.subplots()\n",
        "\n",
        "# First Scatter plot\n",
        "ax.scatter(y, svm_pred, color= 'blue')\n",
        "#Second Scatter plot\n",
        "ax.scatter(y, mlp_pred, color =\"red\")\n",
        "\n",
        "plt.legend(['svm', 'mlp'])\n",
        "\n",
        "ax.plot([y.min(), y.max()], [y.min(), y.max()], 'k--', lw=2)\n",
        "ax.set_xlabel('Measured')\n",
        "ax.set_ylabel('Predicted')\n",
        "ax.set_title('measured vs preducted values')\n",
        "\n",
        "\n",
        "plt.show()"
      ],
      "metadata": {
        "colab": {
          "base_uri": "https://localhost:8080/",
          "height": 295
        },
        "id": "lCpYSsxuU2FH",
        "outputId": "e6be6ecf-b0ca-4115-ccf8-3b7dc43a7e4d"
      },
      "execution_count": 130,
      "outputs": [
        {
          "output_type": "display_data",
          "data": {
            "text/plain": [
              "<Figure size 432x288 with 1 Axes>"
            ],
            "image/png": "[encoded data removed]"
          },
          "metadata": {
            "needs_background": "light"
          }
        }
      ]
    },
    {
      "cell_type": "code",
      "source": [
        "# Plotting multiple models on scatter plot (train and test split)\n",
        "\n",
        "fig,ax = plt.subplots()\n",
        "\n",
        "# First Scatter plot\n",
        "ax.scatter(y_test, svm_predict, color= 'blue')\n",
        "#Second Scatter plot\n",
        "ax.scatter(y_test, mlp_predict, color =\"red\")\n",
        "\n",
        "plt.legend(['svm', 'mlp'])\n",
        "\n",
        "ax.plot([y.min(), y.max()], [y.min(), y.max()], 'k--', lw=2)\n",
        "ax.set_xlabel('Measured')\n",
        "ax.set_ylabel('Predicted')\n",
        "ax.set_title('measured vs preducted values')\n",
        "\n",
        "\n",
        "plt.show()"
      ],
      "metadata": {
        "id": "bqwIcVZylnue",
        "colab": {
          "base_uri": "https://localhost:8080/",
          "height": 295
        },
        "outputId": "9636ce18-9dea-4957-a4fb-e415d70dfd4f"
      },
      "execution_count": 137,
      "outputs": [
        {
          "output_type": "display_data",
          "data": {
            "text/plain": [
              "<Figure size 432x288 with 1 Axes>"
            ],
            "image/png": "[encoded data removed]"
          },
          "metadata": {
            "needs_background": "light"
          }
        }
      ]
    }
  ]
}